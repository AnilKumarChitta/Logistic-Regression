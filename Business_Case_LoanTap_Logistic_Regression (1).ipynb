{
  "cells": [
    {
      "cell_type": "markdown",
      "metadata": {
        "id": "VrkDx1CNxIGt"
      },
      "source": [
        "**Colab Link:** https://colab.research.google.com/drive/1KEs2ysN2Qf7ueTbwLQlm-psn3nwnAqX8"
      ]
    },
    {
      "cell_type": "markdown",
      "metadata": {
        "id": "rG2F0yjOxGEq"
      },
      "source": [
        "**Context:**\n",
        "\n",
        "LoanTap is an online platform committed to delivering customized loan products to millennials. They innovate in an otherwise dull loan segment, to deliver instant, flexible loans on consumer friendly terms to salaried professionals and businessmen.\n",
        "\n",
        "The data science team at LoanTap is building an underwriting layer to determine the creditworthiness of MSMEs as well as individuals.\n",
        "\n",
        "LoanTap deploys formal credit to salaried individuals and businesses 4 main financial instruments:\n",
        "\n",
        "* Personal Loan\n",
        "* EMI Free Loan\n",
        "* Personal Overdraft\n",
        "* Advance Salary Loan\n",
        "\n",
        "This case study will focus on the underwriting process behind Personal Loan only\n",
        "\n",
        "**Problem Statement:**\n",
        "\n",
        "Given a set of attributes for an Individual, determine if a credit line should be extended to them. If so, what should the repayment terms be in business recommendations?\n",
        "\n",
        "**Dataset:** https://d2beiqkhq929f0.cloudfront.net/public_assets/assets/000/003/549/original/logistic_regression.csv\n",
        "\n",
        "**Data dictionary:**\n",
        "\n",
        "* loan_amnt : The listed amount of the loan applied for by the borrower. If at some point in time, the credit department reduces the loan amount, then it will be reflected in this value.\n",
        "* term : The number of payments on the loan. Values are in months and can be either 36 or 60.\n",
        "* int_rate : Interest Rate on the loan\n",
        "* installment : The monthly payment owed by the borrower if the loan originates.\n",
        "* grade : LoanTap assigned loan grade\n",
        "* sub_grade : LoanTap assigned loan subgrade\n",
        "* emp_title :The job title supplied by the Borrower when applying for the loan.*\n",
        "* emp_length : Employment length in years. Possible values are between 0 and 10 where 0 means less than one year and 10 means ten or more years.\n",
        "* home_ownership : The home ownership status provided by the borrower during registration or obtained from the credit report.\n",
        "* annual_inc : The self-reported annual income provided by the borrower during registration.\n",
        "* verification_status : Indicates if income was verified by LoanTap, not verified, or if the income source was verified\n",
        "* issue_d : The month which the loan was funded\n",
        "* loan_status : Current status of the loan - Target Variable\n",
        "* purpose : A category provided by the borrower for the loan request.\n",
        "* title : The loan title provided by the borrower\n",
        "* dti : A ratio calculated using the borrower’s total monthly debt payments on the total debt obligations, excluding mortgage and the requested LoanTap loan, divided by the borrower’s self-reported monthly income.\n",
        "* earliest_cr_line :The month the borrower's earliest reported credit line was opened\n",
        "* open_acc : The number of open credit lines in the borrower's credit file.\n",
        "* pub_rec : Number of derogatory public records\n",
        "* revol_bal : Total credit revolving balance\n",
        "* revol_util : Revolving line utilization rate, or the amount of credit the borrower is using relative to all available revolving credit.\n",
        "* total_acc : The total number of credit lines currently in the borrower's credit file\n",
        "* initial_list_status : The initial listing status of the loan. Possible values are – W, F\n",
        "* application_type : Indicates whether the loan is an individual application or a joint application with two co-borrowers\n",
        "* mort_acc : Number of mortgage accounts.\n",
        "* pub_rec_bankruptcies : Number of public record bankruptcies\n",
        "* Address: Address of the individual\n",
        "\n",
        "**Concept Used:**\n",
        "\n",
        "* Exploratory Data Analysis\n",
        "* Feature Engineering\n",
        "* Logistic Regression\n",
        "* Precision Vs Recall Tradeoff\n",
        "\n",
        "**What does ‘good’ look like?**\n",
        "\n",
        "* Import the dataset and do usual exploratory data analysis steps like checking the structure & characteristics of the dataset\n",
        "* Check how much target variable (Loan_Status) depends on different predictor variables (Use count plots, box plots, heat maps etc)\n",
        "* Check correlation among independent variables and how they interact with each other\n",
        "* Simple Feature Engineering steps:\n",
        "E.g.: Creation of Flags- If value greater than 1.0 then 1 else 0. This can be done on:\n",
        "\n",
        "1. Pub_rec\n",
        "2. Mort_acc\n",
        "3. Pub_rec_bankruptcies\n",
        "\n",
        "* Missing values and Outlier Treatment\n",
        "* Scaling - Using MinMaxScaler or StandardScaler\n",
        "* Use Logistic Regression Model from Sklearn/Statsmodel library and explain the results\n",
        "* Results Evaluation:\n",
        "    * Classification Report\n",
        "    * ROC AUC curve\n",
        "    * Precision recall curve\n",
        "* Tradeoff Questions:\n",
        "    * How can we make sure that our model can detect real defaulters and there are less false positives? This is important as we can lose out on an opportunity to finance more individuals and earn interest on it.\n",
        "    * Since NPA (non-performing asset) is a real problem in this industry, it’s important we play safe and shouldn’t disburse loans to anyone\n",
        "* Provide actionable Insights & Recommendations"
      ]
    },
    {
      "cell_type": "markdown",
      "metadata": {
        "id": "2DgtaM4Rybn-"
      },
      "source": [
        "#Importing Libraries"
      ]
    },
    {
      "cell_type": "code",
      "execution_count": null,
      "metadata": {
        "id": "501FEGsjyf5F"
      },
      "outputs": [],
      "source": [
        "# Data processing\n",
        "import pandas as pd\n",
        "import numpy as np\n",
        "\n",
        "# Data Visualisation\n",
        "import matplotlib\n",
        "import matplotlib.pyplot as plt\n",
        "import seaborn as sns\n",
        "import plotly.express as px\n",
        "%matplotlib inline\n",
        "\n",
        "# Setting option for full column view of Data\n",
        "pd.set_option('display.max_columns', None)\n",
        "\n",
        "# Stats & model building\n",
        "from scipy import stats\n",
        "from sklearn.preprocessing import OneHotEncoder\n",
        "from sklearn.linear_model import LogisticRegression\n",
        "from sklearn.model_selection import train_test_split\n",
        "from sklearn.preprocessing import MinMaxScaler\n",
        "from sklearn.metrics import (accuracy_score, confusion_matrix,\n",
        "                             roc_curve, auc, ConfusionMatrixDisplay,\n",
        "                             f1_score, recall_score,\n",
        "                             precision_score, precision_recall_curve,\n",
        "                             average_precision_score, classification_report)\n",
        "from statsmodels.stats.outliers_influence import variance_inflation_factor\n",
        "from imblearn.over_sampling import SMOTE\n",
        "\n",
        "# Hide warnings\n",
        "import warnings\n",
        "warnings.filterwarnings(\"ignore\")"
      ]
    },
    {
      "cell_type": "code",
      "execution_count": null,
      "metadata": {
        "colab": {
          "base_uri": "https://localhost:8080/",
          "height": 399
        },
        "id": "pRg7t3SS0an9",
        "outputId": "74641f7f-9bd8-4afe-c3dd-2314b1f6ee4e"
      },
      "outputs": [
        {
          "data": {
            "application/vnd.google.colaboratory.intrinsic+json": {
              "type": "dataframe",
              "variable_name": "df"
            },
            "text/html": [
              "\n",
              "  <div id=\"df-12ec4b25-f78a-43ac-8e43-46fd7aae443d\" class=\"colab-df-container\">\n",
              "    <div>\n",
              "<style scoped>\n",
              "    .dataframe tbody tr th:only-of-type {\n",
              "        vertical-align: middle;\n",
              "    }\n",
              "\n",
              "    .dataframe tbody tr th {\n",
              "        vertical-align: top;\n",
              "    }\n",
              "\n",
              "    .dataframe thead th {\n",
              "        text-align: right;\n",
              "    }\n",
              "</style>\n",
              "<table border=\"1\" class=\"dataframe\">\n",
              "  <thead>\n",
              "    <tr style=\"text-align: right;\">\n",
              "      <th></th>\n",
              "      <th>loan_amnt</th>\n",
              "      <th>term</th>\n",
              "      <th>int_rate</th>\n",
              "      <th>installment</th>\n",
              "      <th>grade</th>\n",
              "      <th>sub_grade</th>\n",
              "      <th>emp_title</th>\n",
              "      <th>emp_length</th>\n",
              "      <th>home_ownership</th>\n",
              "      <th>annual_inc</th>\n",
              "      <th>verification_status</th>\n",
              "      <th>issue_d</th>\n",
              "      <th>loan_status</th>\n",
              "      <th>purpose</th>\n",
              "      <th>title</th>\n",
              "      <th>dti</th>\n",
              "      <th>earliest_cr_line</th>\n",
              "      <th>open_acc</th>\n",
              "      <th>pub_rec</th>\n",
              "      <th>revol_bal</th>\n",
              "      <th>revol_util</th>\n",
              "      <th>total_acc</th>\n",
              "      <th>initial_list_status</th>\n",
              "      <th>application_type</th>\n",
              "      <th>mort_acc</th>\n",
              "      <th>pub_rec_bankruptcies</th>\n",
              "      <th>address</th>\n",
              "    </tr>\n",
              "  </thead>\n",
              "  <tbody>\n",
              "    <tr>\n",
              "      <th>0</th>\n",
              "      <td>10000.0</td>\n",
              "      <td>36 months</td>\n",
              "      <td>11.44</td>\n",
              "      <td>329.48</td>\n",
              "      <td>B</td>\n",
              "      <td>B4</td>\n",
              "      <td>Marketing</td>\n",
              "      <td>10+ years</td>\n",
              "      <td>RENT</td>\n",
              "      <td>117000.0</td>\n",
              "      <td>Not Verified</td>\n",
              "      <td>Jan-2015</td>\n",
              "      <td>Fully Paid</td>\n",
              "      <td>vacation</td>\n",
              "      <td>Vacation</td>\n",
              "      <td>26.24</td>\n",
              "      <td>Jun-1990</td>\n",
              "      <td>16.0</td>\n",
              "      <td>0.0</td>\n",
              "      <td>36369.0</td>\n",
              "      <td>41.8</td>\n",
              "      <td>25.0</td>\n",
              "      <td>w</td>\n",
              "      <td>INDIVIDUAL</td>\n",
              "      <td>0.0</td>\n",
              "      <td>0.0</td>\n",
              "      <td>0174 Michelle Gateway\\r\\nMendozaberg, OK 22690</td>\n",
              "    </tr>\n",
              "    <tr>\n",
              "      <th>1</th>\n",
              "      <td>8000.0</td>\n",
              "      <td>36 months</td>\n",
              "      <td>11.99</td>\n",
              "      <td>265.68</td>\n",
              "      <td>B</td>\n",
              "      <td>B5</td>\n",
              "      <td>Credit analyst</td>\n",
              "      <td>4 years</td>\n",
              "      <td>MORTGAGE</td>\n",
              "      <td>65000.0</td>\n",
              "      <td>Not Verified</td>\n",
              "      <td>Jan-2015</td>\n",
              "      <td>Fully Paid</td>\n",
              "      <td>debt_consolidation</td>\n",
              "      <td>Debt consolidation</td>\n",
              "      <td>22.05</td>\n",
              "      <td>Jul-2004</td>\n",
              "      <td>17.0</td>\n",
              "      <td>0.0</td>\n",
              "      <td>20131.0</td>\n",
              "      <td>53.3</td>\n",
              "      <td>27.0</td>\n",
              "      <td>f</td>\n",
              "      <td>INDIVIDUAL</td>\n",
              "      <td>3.0</td>\n",
              "      <td>0.0</td>\n",
              "      <td>1076 Carney Fort Apt. 347\\r\\nLoganmouth, SD 05113</td>\n",
              "    </tr>\n",
              "    <tr>\n",
              "      <th>2</th>\n",
              "      <td>15600.0</td>\n",
              "      <td>36 months</td>\n",
              "      <td>10.49</td>\n",
              "      <td>506.97</td>\n",
              "      <td>B</td>\n",
              "      <td>B3</td>\n",
              "      <td>Statistician</td>\n",
              "      <td>&lt; 1 year</td>\n",
              "      <td>RENT</td>\n",
              "      <td>43057.0</td>\n",
              "      <td>Source Verified</td>\n",
              "      <td>Jan-2015</td>\n",
              "      <td>Fully Paid</td>\n",
              "      <td>credit_card</td>\n",
              "      <td>Credit card refinancing</td>\n",
              "      <td>12.79</td>\n",
              "      <td>Aug-2007</td>\n",
              "      <td>13.0</td>\n",
              "      <td>0.0</td>\n",
              "      <td>11987.0</td>\n",
              "      <td>92.2</td>\n",
              "      <td>26.0</td>\n",
              "      <td>f</td>\n",
              "      <td>INDIVIDUAL</td>\n",
              "      <td>0.0</td>\n",
              "      <td>0.0</td>\n",
              "      <td>87025 Mark Dale Apt. 269\\r\\nNew Sabrina, WV 05113</td>\n",
              "    </tr>\n",
              "    <tr>\n",
              "      <th>3</th>\n",
              "      <td>7200.0</td>\n",
              "      <td>36 months</td>\n",
              "      <td>6.49</td>\n",
              "      <td>220.65</td>\n",
              "      <td>A</td>\n",
              "      <td>A2</td>\n",
              "      <td>Client Advocate</td>\n",
              "      <td>6 years</td>\n",
              "      <td>RENT</td>\n",
              "      <td>54000.0</td>\n",
              "      <td>Not Verified</td>\n",
              "      <td>Nov-2014</td>\n",
              "      <td>Fully Paid</td>\n",
              "      <td>credit_card</td>\n",
              "      <td>Credit card refinancing</td>\n",
              "      <td>2.60</td>\n",
              "      <td>Sep-2006</td>\n",
              "      <td>6.0</td>\n",
              "      <td>0.0</td>\n",
              "      <td>5472.0</td>\n",
              "      <td>21.5</td>\n",
              "      <td>13.0</td>\n",
              "      <td>f</td>\n",
              "      <td>INDIVIDUAL</td>\n",
              "      <td>0.0</td>\n",
              "      <td>0.0</td>\n",
              "      <td>823 Reid Ford\\r\\nDelacruzside, MA 00813</td>\n",
              "    </tr>\n",
              "    <tr>\n",
              "      <th>4</th>\n",
              "      <td>24375.0</td>\n",
              "      <td>60 months</td>\n",
              "      <td>17.27</td>\n",
              "      <td>609.33</td>\n",
              "      <td>C</td>\n",
              "      <td>C5</td>\n",
              "      <td>Destiny Management Inc.</td>\n",
              "      <td>9 years</td>\n",
              "      <td>MORTGAGE</td>\n",
              "      <td>55000.0</td>\n",
              "      <td>Verified</td>\n",
              "      <td>Apr-2013</td>\n",
              "      <td>Charged Off</td>\n",
              "      <td>credit_card</td>\n",
              "      <td>Credit Card Refinance</td>\n",
              "      <td>33.95</td>\n",
              "      <td>Mar-1999</td>\n",
              "      <td>13.0</td>\n",
              "      <td>0.0</td>\n",
              "      <td>24584.0</td>\n",
              "      <td>69.8</td>\n",
              "      <td>43.0</td>\n",
              "      <td>f</td>\n",
              "      <td>INDIVIDUAL</td>\n",
              "      <td>1.0</td>\n",
              "      <td>0.0</td>\n",
              "      <td>679 Luna Roads\\r\\nGreggshire, VA 11650</td>\n",
              "    </tr>\n",
              "  </tbody>\n",
              "</table>\n",
              "</div>\n",
              "    <div class=\"colab-df-buttons\">\n",
              "\n",
              "  <div class=\"colab-df-container\">\n",
              "    <button class=\"colab-df-convert\" onclick=\"convertToInteractive('df-12ec4b25-f78a-43ac-8e43-46fd7aae443d')\"\n",
              "            title=\"Convert this dataframe to an interactive table.\"\n",
              "            style=\"display:none;\">\n",
              "\n",
              "  <svg xmlns=\"http://www.w3.org/2000/svg\" height=\"24px\" viewBox=\"0 -960 960 960\">\n",
              "    <path d=\"M120-120v-720h720v720H120Zm60-500h600v-160H180v160Zm220 220h160v-160H400v160Zm0 220h160v-160H400v160ZM180-400h160v-160H180v160Zm440 0h160v-160H620v160ZM180-180h160v-160H180v160Zm440 0h160v-160H620v160Z\"/>\n",
              "  </svg>\n",
              "    </button>\n",
              "\n",
              "  <style>\n",
              "    .colab-df-container {\n",
              "      display:flex;\n",
              "      gap: 12px;\n",
              "    }\n",
              "\n",
              "    .colab-df-convert {\n",
              "      background-color: #E8F0FE;\n",
              "      border: none;\n",
              "      border-radius: 50%;\n",
              "      cursor: pointer;\n",
              "      display: none;\n",
              "      fill: #1967D2;\n",
              "      height: 32px;\n",
              "      padding: 0 0 0 0;\n",
              "      width: 32px;\n",
              "    }\n",
              "\n",
              "    .colab-df-convert:hover {\n",
              "      background-color: #E2EBFA;\n",
              "      box-shadow: 0px 1px 2px rgba(60, 64, 67, 0.3), 0px 1px 3px 1px rgba(60, 64, 67, 0.15);\n",
              "      fill: #174EA6;\n",
              "    }\n",
              "\n",
              "    .colab-df-buttons div {\n",
              "      margin-bottom: 4px;\n",
              "    }\n",
              "\n",
              "    [theme=dark] .colab-df-convert {\n",
              "      background-color: #3B4455;\n",
              "      fill: #D2E3FC;\n",
              "    }\n",
              "\n",
              "    [theme=dark] .colab-df-convert:hover {\n",
              "      background-color: #434B5C;\n",
              "      box-shadow: 0px 1px 3px 1px rgba(0, 0, 0, 0.15);\n",
              "      filter: drop-shadow(0px 1px 2px rgba(0, 0, 0, 0.3));\n",
              "      fill: #FFFFFF;\n",
              "    }\n",
              "  </style>\n",
              "\n",
              "    <script>\n",
              "      const buttonEl =\n",
              "        document.querySelector('#df-12ec4b25-f78a-43ac-8e43-46fd7aae443d button.colab-df-convert');\n",
              "      buttonEl.style.display =\n",
              "        google.colab.kernel.accessAllowed ? 'block' : 'none';\n",
              "\n",
              "      async function convertToInteractive(key) {\n",
              "        const element = document.querySelector('#df-12ec4b25-f78a-43ac-8e43-46fd7aae443d');\n",
              "        const dataTable =\n",
              "          await google.colab.kernel.invokeFunction('convertToInteractive',\n",
              "                                                    [key], {});\n",
              "        if (!dataTable) return;\n",
              "\n",
              "        const docLinkHtml = 'Like what you see? Visit the ' +\n",
              "          '<a target=\"_blank\" href=https://colab.research.google.com/notebooks/data_table.ipynb>data table notebook</a>'\n",
              "          + ' to learn more about interactive tables.';\n",
              "        element.innerHTML = '';\n",
              "        dataTable['output_type'] = 'display_data';\n",
              "        await google.colab.output.renderOutput(dataTable, element);\n",
              "        const docLink = document.createElement('div');\n",
              "        docLink.innerHTML = docLinkHtml;\n",
              "        element.appendChild(docLink);\n",
              "      }\n",
              "    </script>\n",
              "  </div>\n",
              "\n",
              "\n",
              "<div id=\"df-1fa70ca4-2180-49cb-8ced-2ba63d843442\">\n",
              "  <button class=\"colab-df-quickchart\" onclick=\"quickchart('df-1fa70ca4-2180-49cb-8ced-2ba63d843442')\"\n",
              "            title=\"Suggest charts\"\n",
              "            style=\"display:none;\">\n",
              "\n",
              "<svg xmlns=\"http://www.w3.org/2000/svg\" height=\"24px\"viewBox=\"0 0 24 24\"\n",
              "     width=\"24px\">\n",
              "    <g>\n",
              "        <path d=\"M19 3H5c-1.1 0-2 .9-2 2v14c0 1.1.9 2 2 2h14c1.1 0 2-.9 2-2V5c0-1.1-.9-2-2-2zM9 17H7v-7h2v7zm4 0h-2V7h2v10zm4 0h-2v-4h2v4z\"/>\n",
              "    </g>\n",
              "</svg>\n",
              "  </button>\n",
              "\n",
              "<style>\n",
              "  .colab-df-quickchart {\n",
              "      --bg-color: #E8F0FE;\n",
              "      --fill-color: #1967D2;\n",
              "      --hover-bg-color: #E2EBFA;\n",
              "      --hover-fill-color: #174EA6;\n",
              "      --disabled-fill-color: #AAA;\n",
              "      --disabled-bg-color: #DDD;\n",
              "  }\n",
              "\n",
              "  [theme=dark] .colab-df-quickchart {\n",
              "      --bg-color: #3B4455;\n",
              "      --fill-color: #D2E3FC;\n",
              "      --hover-bg-color: #434B5C;\n",
              "      --hover-fill-color: #FFFFFF;\n",
              "      --disabled-bg-color: #3B4455;\n",
              "      --disabled-fill-color: #666;\n",
              "  }\n",
              "\n",
              "  .colab-df-quickchart {\n",
              "    background-color: var(--bg-color);\n",
              "    border: none;\n",
              "    border-radius: 50%;\n",
              "    cursor: pointer;\n",
              "    display: none;\n",
              "    fill: var(--fill-color);\n",
              "    height: 32px;\n",
              "    padding: 0;\n",
              "    width: 32px;\n",
              "  }\n",
              "\n",
              "  .colab-df-quickchart:hover {\n",
              "    background-color: var(--hover-bg-color);\n",
              "    box-shadow: 0 1px 2px rgba(60, 64, 67, 0.3), 0 1px 3px 1px rgba(60, 64, 67, 0.15);\n",
              "    fill: var(--button-hover-fill-color);\n",
              "  }\n",
              "\n",
              "  .colab-df-quickchart-complete:disabled,\n",
              "  .colab-df-quickchart-complete:disabled:hover {\n",
              "    background-color: var(--disabled-bg-color);\n",
              "    fill: var(--disabled-fill-color);\n",
              "    box-shadow: none;\n",
              "  }\n",
              "\n",
              "  .colab-df-spinner {\n",
              "    border: 2px solid var(--fill-color);\n",
              "    border-color: transparent;\n",
              "    border-bottom-color: var(--fill-color);\n",
              "    animation:\n",
              "      spin 1s steps(1) infinite;\n",
              "  }\n",
              "\n",
              "  @keyframes spin {\n",
              "    0% {\n",
              "      border-color: transparent;\n",
              "      border-bottom-color: var(--fill-color);\n",
              "      border-left-color: var(--fill-color);\n",
              "    }\n",
              "    20% {\n",
              "      border-color: transparent;\n",
              "      border-left-color: var(--fill-color);\n",
              "      border-top-color: var(--fill-color);\n",
              "    }\n",
              "    30% {\n",
              "      border-color: transparent;\n",
              "      border-left-color: var(--fill-color);\n",
              "      border-top-color: var(--fill-color);\n",
              "      border-right-color: var(--fill-color);\n",
              "    }\n",
              "    40% {\n",
              "      border-color: transparent;\n",
              "      border-right-color: var(--fill-color);\n",
              "      border-top-color: var(--fill-color);\n",
              "    }\n",
              "    60% {\n",
              "      border-color: transparent;\n",
              "      border-right-color: var(--fill-color);\n",
              "    }\n",
              "    80% {\n",
              "      border-color: transparent;\n",
              "      border-right-color: var(--fill-color);\n",
              "      border-bottom-color: var(--fill-color);\n",
              "    }\n",
              "    90% {\n",
              "      border-color: transparent;\n",
              "      border-bottom-color: var(--fill-color);\n",
              "    }\n",
              "  }\n",
              "</style>\n",
              "\n",
              "  <script>\n",
              "    async function quickchart(key) {\n",
              "      const quickchartButtonEl =\n",
              "        document.querySelector('#' + key + ' button');\n",
              "      quickchartButtonEl.disabled = true;  // To prevent multiple clicks.\n",
              "      quickchartButtonEl.classList.add('colab-df-spinner');\n",
              "      try {\n",
              "        const charts = await google.colab.kernel.invokeFunction(\n",
              "            'suggestCharts', [key], {});\n",
              "      } catch (error) {\n",
              "        console.error('Error during call to suggestCharts:', error);\n",
              "      }\n",
              "      quickchartButtonEl.classList.remove('colab-df-spinner');\n",
              "      quickchartButtonEl.classList.add('colab-df-quickchart-complete');\n",
              "    }\n",
              "    (() => {\n",
              "      let quickchartButtonEl =\n",
              "        document.querySelector('#df-1fa70ca4-2180-49cb-8ced-2ba63d843442 button');\n",
              "      quickchartButtonEl.style.display =\n",
              "        google.colab.kernel.accessAllowed ? 'block' : 'none';\n",
              "    })();\n",
              "  </script>\n",
              "</div>\n",
              "\n",
              "    </div>\n",
              "  </div>\n"
            ],
            "text/plain": [
              "   loan_amnt        term  int_rate  installment grade sub_grade  \\\n",
              "0    10000.0   36 months     11.44       329.48     B        B4   \n",
              "1     8000.0   36 months     11.99       265.68     B        B5   \n",
              "2    15600.0   36 months     10.49       506.97     B        B3   \n",
              "3     7200.0   36 months      6.49       220.65     A        A2   \n",
              "4    24375.0   60 months     17.27       609.33     C        C5   \n",
              "\n",
              "                 emp_title emp_length home_ownership  annual_inc  \\\n",
              "0                Marketing  10+ years           RENT    117000.0   \n",
              "1          Credit analyst     4 years       MORTGAGE     65000.0   \n",
              "2             Statistician   < 1 year           RENT     43057.0   \n",
              "3          Client Advocate    6 years           RENT     54000.0   \n",
              "4  Destiny Management Inc.    9 years       MORTGAGE     55000.0   \n",
              "\n",
              "  verification_status   issue_d  loan_status             purpose  \\\n",
              "0        Not Verified  Jan-2015   Fully Paid            vacation   \n",
              "1        Not Verified  Jan-2015   Fully Paid  debt_consolidation   \n",
              "2     Source Verified  Jan-2015   Fully Paid         credit_card   \n",
              "3        Not Verified  Nov-2014   Fully Paid         credit_card   \n",
              "4            Verified  Apr-2013  Charged Off         credit_card   \n",
              "\n",
              "                     title    dti earliest_cr_line  open_acc  pub_rec  \\\n",
              "0                 Vacation  26.24         Jun-1990      16.0      0.0   \n",
              "1       Debt consolidation  22.05         Jul-2004      17.0      0.0   \n",
              "2  Credit card refinancing  12.79         Aug-2007      13.0      0.0   \n",
              "3  Credit card refinancing   2.60         Sep-2006       6.0      0.0   \n",
              "4    Credit Card Refinance  33.95         Mar-1999      13.0      0.0   \n",
              "\n",
              "   revol_bal  revol_util  total_acc initial_list_status application_type  \\\n",
              "0    36369.0        41.8       25.0                   w       INDIVIDUAL   \n",
              "1    20131.0        53.3       27.0                   f       INDIVIDUAL   \n",
              "2    11987.0        92.2       26.0                   f       INDIVIDUAL   \n",
              "3     5472.0        21.5       13.0                   f       INDIVIDUAL   \n",
              "4    24584.0        69.8       43.0                   f       INDIVIDUAL   \n",
              "\n",
              "   mort_acc  pub_rec_bankruptcies  \\\n",
              "0       0.0                   0.0   \n",
              "1       3.0                   0.0   \n",
              "2       0.0                   0.0   \n",
              "3       0.0                   0.0   \n",
              "4       1.0                   0.0   \n",
              "\n",
              "                                             address  \n",
              "0     0174 Michelle Gateway\\r\\nMendozaberg, OK 22690  \n",
              "1  1076 Carney Fort Apt. 347\\r\\nLoganmouth, SD 05113  \n",
              "2  87025 Mark Dale Apt. 269\\r\\nNew Sabrina, WV 05113  \n",
              "3            823 Reid Ford\\r\\nDelacruzside, MA 00813  \n",
              "4             679 Luna Roads\\r\\nGreggshire, VA 11650  "
            ]
          },
          "execution_count": 53,
          "metadata": {},
          "output_type": "execute_result"
        }
      ],
      "source": [
        "df = pd.read_csv('https://d2beiqkhq929f0.cloudfront.net/public_assets/assets/000/003/549/original/logistic_regression.csv')\n",
        "df.head()"
      ]
    },
    {
      "cell_type": "code",
      "execution_count": null,
      "metadata": {
        "colab": {
          "base_uri": "https://localhost:8080/"
        },
        "id": "5HzubzJD0g1I",
        "outputId": "451a3b38-e7e3-4363-a58b-8ede51856a45"
      },
      "outputs": [
        {
          "data": {
            "text/plain": [
              "(396030, 27)"
            ]
          },
          "execution_count": 54,
          "metadata": {},
          "output_type": "execute_result"
        }
      ],
      "source": [
        "df.shape"
      ]
    },
    {
      "cell_type": "code",
      "execution_count": null,
      "metadata": {
        "colab": {
          "base_uri": "https://localhost:8080/",
          "height": 320
        },
        "id": "XDvlEiyzdgr2",
        "outputId": "6b6dd338-f0bf-4acc-9020-e296e48a1b4f"
      },
      "outputs": [
        {
          "data": {
            "application/vnd.google.colaboratory.intrinsic+json": {
              "summary": "{\n  \"name\": \"df\",\n  \"rows\": 8,\n  \"fields\": [\n    {\n      \"column\": \"loan_amnt\",\n      \"properties\": {\n        \"dtype\": \"number\",\n        \"std\": 135325.93918604957,\n        \"min\": 500.0,\n        \"max\": 396030.0,\n        \"num_unique_values\": 8,\n        \"samples\": [\n          14113.888089286165,\n          12000.0,\n          396030.0\n        ],\n        \"semantic_type\": \"\",\n        \"description\": \"\"\n      }\n    },\n    {\n      \"column\": \"int_rate\",\n      \"properties\": {\n        \"dtype\": \"number\",\n        \"std\": 140012.96485144028,\n        \"min\": 4.472157381531264,\n        \"max\": 396030.0,\n        \"num_unique_values\": 8,\n        \"samples\": [\n          13.6394000454511,\n          13.33,\n          396030.0\n        ],\n        \"semantic_type\": \"\",\n        \"description\": \"\"\n      }\n    },\n    {\n      \"column\": \"installment\",\n      \"properties\": {\n        \"dtype\": \"number\",\n        \"std\": 139845.47529700142,\n        \"min\": 16.08,\n        \"max\": 396030.0,\n        \"num_unique_values\": 8,\n        \"samples\": [\n          431.84969802792716,\n          375.43,\n          396030.0\n        ],\n        \"semantic_type\": \"\",\n        \"description\": \"\"\n      }\n    },\n    {\n      \"column\": \"annual_inc\",\n      \"properties\": {\n        \"dtype\": \"number\",\n        \"std\": 3043769.9082227983,\n        \"min\": 0.0,\n        \"max\": 8706582.0,\n        \"num_unique_values\": 8,\n        \"samples\": [\n          74203.17579771738,\n          64000.0,\n          396030.0\n        ],\n        \"semantic_type\": \"\",\n        \"description\": \"\"\n      }\n    },\n    {\n      \"column\": \"dti\",\n      \"properties\": {\n        \"dtype\": \"number\",\n        \"std\": 139552.09502751552,\n        \"min\": 0.0,\n        \"max\": 396030.0,\n        \"num_unique_values\": 8,\n        \"samples\": [\n          17.379513647955967,\n          16.91,\n          396030.0\n        ],\n        \"semantic_type\": \"\",\n        \"description\": \"\"\n      }\n    },\n    {\n      \"column\": \"open_acc\",\n      \"properties\": {\n        \"dtype\": \"number\",\n        \"std\": 140010.75955392266,\n        \"min\": 0.0,\n        \"max\": 396030.0,\n        \"num_unique_values\": 8,\n        \"samples\": [\n          11.31115319546499,\n          10.0,\n          396030.0\n        ],\n        \"semantic_type\": \"\",\n        \"description\": \"\"\n      }\n    },\n    {\n      \"column\": \"pub_rec\",\n      \"properties\": {\n        \"dtype\": \"number\",\n        \"std\": 140013.37304312375,\n        \"min\": 0.0,\n        \"max\": 396030.0,\n        \"num_unique_values\": 5,\n        \"samples\": [\n          0.17819104613286874,\n          86.0,\n          0.530670600474012\n        ],\n        \"semantic_type\": \"\",\n        \"description\": \"\"\n      }\n    },\n    {\n      \"column\": \"revol_bal\",\n      \"properties\": {\n        \"dtype\": \"number\",\n        \"std\": 607701.8324003754,\n        \"min\": 0.0,\n        \"max\": 1743266.0,\n        \"num_unique_values\": 8,\n        \"samples\": [\n          15844.539853041437,\n          11181.0,\n          396030.0\n        ],\n        \"semantic_type\": \"\",\n        \"description\": \"\"\n      }\n    },\n    {\n      \"column\": \"revol_util\",\n      \"properties\": {\n        \"dtype\": \"number\",\n        \"std\": 139863.2101518472,\n        \"min\": 0.0,\n        \"max\": 395754.0,\n        \"num_unique_values\": 8,\n        \"samples\": [\n          53.79174863677942,\n          54.8,\n          395754.0\n        ],\n        \"semantic_type\": \"\",\n        \"description\": \"\"\n      }\n    },\n    {\n      \"column\": \"total_acc\",\n      \"properties\": {\n        \"dtype\": \"number\",\n        \"std\": 140004.4584781143,\n        \"min\": 2.0,\n        \"max\": 396030.0,\n        \"num_unique_values\": 8,\n        \"samples\": [\n          25.41474383253794,\n          24.0,\n          396030.0\n        ],\n        \"semantic_type\": \"\",\n        \"description\": \"\"\n      }\n    },\n    {\n      \"column\": \"mort_acc\",\n      \"properties\": {\n        \"dtype\": \"number\",\n        \"std\": 126653.08000228764,\n        \"min\": 0.0,\n        \"max\": 358235.0,\n        \"num_unique_values\": 7,\n        \"samples\": [\n          358235.0,\n          1.8139908160844138,\n          3.0\n        ],\n        \"semantic_type\": \"\",\n        \"description\": \"\"\n      }\n    },\n    {\n      \"column\": \"pub_rec_bankruptcies\",\n      \"properties\": {\n        \"dtype\": \"number\",\n        \"std\": 139828.17004554253,\n        \"min\": 0.0,\n        \"max\": 395495.0,\n        \"num_unique_values\": 5,\n        \"samples\": [\n          0.12164755559488742,\n          8.0,\n          0.3561742766275257\n        ],\n        \"semantic_type\": \"\",\n        \"description\": \"\"\n      }\n    }\n  ]\n}",
              "type": "dataframe"
            },
            "text/html": [
              "\n",
              "  <div id=\"df-6044e6fc-b4bd-477a-9a32-06ac33cdcbea\" class=\"colab-df-container\">\n",
              "    <div>\n",
              "<style scoped>\n",
              "    .dataframe tbody tr th:only-of-type {\n",
              "        vertical-align: middle;\n",
              "    }\n",
              "\n",
              "    .dataframe tbody tr th {\n",
              "        vertical-align: top;\n",
              "    }\n",
              "\n",
              "    .dataframe thead th {\n",
              "        text-align: right;\n",
              "    }\n",
              "</style>\n",
              "<table border=\"1\" class=\"dataframe\">\n",
              "  <thead>\n",
              "    <tr style=\"text-align: right;\">\n",
              "      <th></th>\n",
              "      <th>loan_amnt</th>\n",
              "      <th>int_rate</th>\n",
              "      <th>installment</th>\n",
              "      <th>annual_inc</th>\n",
              "      <th>dti</th>\n",
              "      <th>open_acc</th>\n",
              "      <th>pub_rec</th>\n",
              "      <th>revol_bal</th>\n",
              "      <th>revol_util</th>\n",
              "      <th>total_acc</th>\n",
              "      <th>mort_acc</th>\n",
              "      <th>pub_rec_bankruptcies</th>\n",
              "    </tr>\n",
              "  </thead>\n",
              "  <tbody>\n",
              "    <tr>\n",
              "      <th>count</th>\n",
              "      <td>396030.000000</td>\n",
              "      <td>396030.000000</td>\n",
              "      <td>396030.000000</td>\n",
              "      <td>3.960300e+05</td>\n",
              "      <td>396030.000000</td>\n",
              "      <td>396030.000000</td>\n",
              "      <td>396030.000000</td>\n",
              "      <td>3.960300e+05</td>\n",
              "      <td>395754.000000</td>\n",
              "      <td>396030.000000</td>\n",
              "      <td>358235.000000</td>\n",
              "      <td>395495.000000</td>\n",
              "    </tr>\n",
              "    <tr>\n",
              "      <th>mean</th>\n",
              "      <td>14113.888089</td>\n",
              "      <td>13.639400</td>\n",
              "      <td>431.849698</td>\n",
              "      <td>7.420318e+04</td>\n",
              "      <td>17.379514</td>\n",
              "      <td>11.311153</td>\n",
              "      <td>0.178191</td>\n",
              "      <td>1.584454e+04</td>\n",
              "      <td>53.791749</td>\n",
              "      <td>25.414744</td>\n",
              "      <td>1.813991</td>\n",
              "      <td>0.121648</td>\n",
              "    </tr>\n",
              "    <tr>\n",
              "      <th>std</th>\n",
              "      <td>8357.441341</td>\n",
              "      <td>4.472157</td>\n",
              "      <td>250.727790</td>\n",
              "      <td>6.163762e+04</td>\n",
              "      <td>18.019092</td>\n",
              "      <td>5.137649</td>\n",
              "      <td>0.530671</td>\n",
              "      <td>2.059184e+04</td>\n",
              "      <td>24.452193</td>\n",
              "      <td>11.886991</td>\n",
              "      <td>2.147930</td>\n",
              "      <td>0.356174</td>\n",
              "    </tr>\n",
              "    <tr>\n",
              "      <th>min</th>\n",
              "      <td>500.000000</td>\n",
              "      <td>5.320000</td>\n",
              "      <td>16.080000</td>\n",
              "      <td>0.000000e+00</td>\n",
              "      <td>0.000000</td>\n",
              "      <td>0.000000</td>\n",
              "      <td>0.000000</td>\n",
              "      <td>0.000000e+00</td>\n",
              "      <td>0.000000</td>\n",
              "      <td>2.000000</td>\n",
              "      <td>0.000000</td>\n",
              "      <td>0.000000</td>\n",
              "    </tr>\n",
              "    <tr>\n",
              "      <th>25%</th>\n",
              "      <td>8000.000000</td>\n",
              "      <td>10.490000</td>\n",
              "      <td>250.330000</td>\n",
              "      <td>4.500000e+04</td>\n",
              "      <td>11.280000</td>\n",
              "      <td>8.000000</td>\n",
              "      <td>0.000000</td>\n",
              "      <td>6.025000e+03</td>\n",
              "      <td>35.800000</td>\n",
              "      <td>17.000000</td>\n",
              "      <td>0.000000</td>\n",
              "      <td>0.000000</td>\n",
              "    </tr>\n",
              "    <tr>\n",
              "      <th>50%</th>\n",
              "      <td>12000.000000</td>\n",
              "      <td>13.330000</td>\n",
              "      <td>375.430000</td>\n",
              "      <td>6.400000e+04</td>\n",
              "      <td>16.910000</td>\n",
              "      <td>10.000000</td>\n",
              "      <td>0.000000</td>\n",
              "      <td>1.118100e+04</td>\n",
              "      <td>54.800000</td>\n",
              "      <td>24.000000</td>\n",
              "      <td>1.000000</td>\n",
              "      <td>0.000000</td>\n",
              "    </tr>\n",
              "    <tr>\n",
              "      <th>75%</th>\n",
              "      <td>20000.000000</td>\n",
              "      <td>16.490000</td>\n",
              "      <td>567.300000</td>\n",
              "      <td>9.000000e+04</td>\n",
              "      <td>22.980000</td>\n",
              "      <td>14.000000</td>\n",
              "      <td>0.000000</td>\n",
              "      <td>1.962000e+04</td>\n",
              "      <td>72.900000</td>\n",
              "      <td>32.000000</td>\n",
              "      <td>3.000000</td>\n",
              "      <td>0.000000</td>\n",
              "    </tr>\n",
              "    <tr>\n",
              "      <th>max</th>\n",
              "      <td>40000.000000</td>\n",
              "      <td>30.990000</td>\n",
              "      <td>1533.810000</td>\n",
              "      <td>8.706582e+06</td>\n",
              "      <td>9999.000000</td>\n",
              "      <td>90.000000</td>\n",
              "      <td>86.000000</td>\n",
              "      <td>1.743266e+06</td>\n",
              "      <td>892.300000</td>\n",
              "      <td>151.000000</td>\n",
              "      <td>34.000000</td>\n",
              "      <td>8.000000</td>\n",
              "    </tr>\n",
              "  </tbody>\n",
              "</table>\n",
              "</div>\n",
              "    <div class=\"colab-df-buttons\">\n",
              "\n",
              "  <div class=\"colab-df-container\">\n",
              "    <button class=\"colab-df-convert\" onclick=\"convertToInteractive('df-6044e6fc-b4bd-477a-9a32-06ac33cdcbea')\"\n",
              "            title=\"Convert this dataframe to an interactive table.\"\n",
              "            style=\"display:none;\">\n",
              "\n",
              "  <svg xmlns=\"http://www.w3.org/2000/svg\" height=\"24px\" viewBox=\"0 -960 960 960\">\n",
              "    <path d=\"M120-120v-720h720v720H120Zm60-500h600v-160H180v160Zm220 220h160v-160H400v160Zm0 220h160v-160H400v160ZM180-400h160v-160H180v160Zm440 0h160v-160H620v160ZM180-180h160v-160H180v160Zm440 0h160v-160H620v160Z\"/>\n",
              "  </svg>\n",
              "    </button>\n",
              "\n",
              "  <style>\n",
              "    .colab-df-container {\n",
              "      display:flex;\n",
              "      gap: 12px;\n",
              "    }\n",
              "\n",
              "    .colab-df-convert {\n",
              "      background-color: #E8F0FE;\n",
              "      border: none;\n",
              "      border-radius: 50%;\n",
              "      cursor: pointer;\n",
              "      display: none;\n",
              "      fill: #1967D2;\n",
              "      height: 32px;\n",
              "      padding: 0 0 0 0;\n",
              "      width: 32px;\n",
              "    }\n",
              "\n",
              "    .colab-df-convert:hover {\n",
              "      background-color: #E2EBFA;\n",
              "      box-shadow: 0px 1px 2px rgba(60, 64, 67, 0.3), 0px 1px 3px 1px rgba(60, 64, 67, 0.15);\n",
              "      fill: #174EA6;\n",
              "    }\n",
              "\n",
              "    .colab-df-buttons div {\n",
              "      margin-bottom: 4px;\n",
              "    }\n",
              "\n",
              "    [theme=dark] .colab-df-convert {\n",
              "      background-color: #3B4455;\n",
              "      fill: #D2E3FC;\n",
              "    }\n",
              "\n",
              "    [theme=dark] .colab-df-convert:hover {\n",
              "      background-color: #434B5C;\n",
              "      box-shadow: 0px 1px 3px 1px rgba(0, 0, 0, 0.15);\n",
              "      filter: drop-shadow(0px 1px 2px rgba(0, 0, 0, 0.3));\n",
              "      fill: #FFFFFF;\n",
              "    }\n",
              "  </style>\n",
              "\n",
              "    <script>\n",
              "      const buttonEl =\n",
              "        document.querySelector('#df-6044e6fc-b4bd-477a-9a32-06ac33cdcbea button.colab-df-convert');\n",
              "      buttonEl.style.display =\n",
              "        google.colab.kernel.accessAllowed ? 'block' : 'none';\n",
              "\n",
              "      async function convertToInteractive(key) {\n",
              "        const element = document.querySelector('#df-6044e6fc-b4bd-477a-9a32-06ac33cdcbea');\n",
              "        const dataTable =\n",
              "          await google.colab.kernel.invokeFunction('convertToInteractive',\n",
              "                                                    [key], {});\n",
              "        if (!dataTable) return;\n",
              "\n",
              "        const docLinkHtml = 'Like what you see? Visit the ' +\n",
              "          '<a target=\"_blank\" href=https://colab.research.google.com/notebooks/data_table.ipynb>data table notebook</a>'\n",
              "          + ' to learn more about interactive tables.';\n",
              "        element.innerHTML = '';\n",
              "        dataTable['output_type'] = 'display_data';\n",
              "        await google.colab.output.renderOutput(dataTable, element);\n",
              "        const docLink = document.createElement('div');\n",
              "        docLink.innerHTML = docLinkHtml;\n",
              "        element.appendChild(docLink);\n",
              "      }\n",
              "    </script>\n",
              "  </div>\n",
              "\n",
              "\n",
              "<div id=\"df-6a6bb0a6-99c4-4ddc-a835-6584b46ea0e6\">\n",
              "  <button class=\"colab-df-quickchart\" onclick=\"quickchart('df-6a6bb0a6-99c4-4ddc-a835-6584b46ea0e6')\"\n",
              "            title=\"Suggest charts\"\n",
              "            style=\"display:none;\">\n",
              "\n",
              "<svg xmlns=\"http://www.w3.org/2000/svg\" height=\"24px\"viewBox=\"0 0 24 24\"\n",
              "     width=\"24px\">\n",
              "    <g>\n",
              "        <path d=\"M19 3H5c-1.1 0-2 .9-2 2v14c0 1.1.9 2 2 2h14c1.1 0 2-.9 2-2V5c0-1.1-.9-2-2-2zM9 17H7v-7h2v7zm4 0h-2V7h2v10zm4 0h-2v-4h2v4z\"/>\n",
              "    </g>\n",
              "</svg>\n",
              "  </button>\n",
              "\n",
              "<style>\n",
              "  .colab-df-quickchart {\n",
              "      --bg-color: #E8F0FE;\n",
              "      --fill-color: #1967D2;\n",
              "      --hover-bg-color: #E2EBFA;\n",
              "      --hover-fill-color: #174EA6;\n",
              "      --disabled-fill-color: #AAA;\n",
              "      --disabled-bg-color: #DDD;\n",
              "  }\n",
              "\n",
              "  [theme=dark] .colab-df-quickchart {\n",
              "      --bg-color: #3B4455;\n",
              "      --fill-color: #D2E3FC;\n",
              "      --hover-bg-color: #434B5C;\n",
              "      --hover-fill-color: #FFFFFF;\n",
              "      --disabled-bg-color: #3B4455;\n",
              "      --disabled-fill-color: #666;\n",
              "  }\n",
              "\n",
              "  .colab-df-quickchart {\n",
              "    background-color: var(--bg-color);\n",
              "    border: none;\n",
              "    border-radius: 50%;\n",
              "    cursor: pointer;\n",
              "    display: none;\n",
              "    fill: var(--fill-color);\n",
              "    height: 32px;\n",
              "    padding: 0;\n",
              "    width: 32px;\n",
              "  }\n",
              "\n",
              "  .colab-df-quickchart:hover {\n",
              "    background-color: var(--hover-bg-color);\n",
              "    box-shadow: 0 1px 2px rgba(60, 64, 67, 0.3), 0 1px 3px 1px rgba(60, 64, 67, 0.15);\n",
              "    fill: var(--button-hover-fill-color);\n",
              "  }\n",
              "\n",
              "  .colab-df-quickchart-complete:disabled,\n",
              "  .colab-df-quickchart-complete:disabled:hover {\n",
              "    background-color: var(--disabled-bg-color);\n",
              "    fill: var(--disabled-fill-color);\n",
              "    box-shadow: none;\n",
              "  }\n",
              "\n",
              "  .colab-df-spinner {\n",
              "    border: 2px solid var(--fill-color);\n",
              "    border-color: transparent;\n",
              "    border-bottom-color: var(--fill-color);\n",
              "    animation:\n",
              "      spin 1s steps(1) infinite;\n",
              "  }\n",
              "\n",
              "  @keyframes spin {\n",
              "    0% {\n",
              "      border-color: transparent;\n",
              "      border-bottom-color: var(--fill-color);\n",
              "      border-left-color: var(--fill-color);\n",
              "    }\n",
              "    20% {\n",
              "      border-color: transparent;\n",
              "      border-left-color: var(--fill-color);\n",
              "      border-top-color: var(--fill-color);\n",
              "    }\n",
              "    30% {\n",
              "      border-color: transparent;\n",
              "      border-left-color: var(--fill-color);\n",
              "      border-top-color: var(--fill-color);\n",
              "      border-right-color: var(--fill-color);\n",
              "    }\n",
              "    40% {\n",
              "      border-color: transparent;\n",
              "      border-right-color: var(--fill-color);\n",
              "      border-top-color: var(--fill-color);\n",
              "    }\n",
              "    60% {\n",
              "      border-color: transparent;\n",
              "      border-right-color: var(--fill-color);\n",
              "    }\n",
              "    80% {\n",
              "      border-color: transparent;\n",
              "      border-right-color: var(--fill-color);\n",
              "      border-bottom-color: var(--fill-color);\n",
              "    }\n",
              "    90% {\n",
              "      border-color: transparent;\n",
              "      border-bottom-color: var(--fill-color);\n",
              "    }\n",
              "  }\n",
              "</style>\n",
              "\n",
              "  <script>\n",
              "    async function quickchart(key) {\n",
              "      const quickchartButtonEl =\n",
              "        document.querySelector('#' + key + ' button');\n",
              "      quickchartButtonEl.disabled = true;  // To prevent multiple clicks.\n",
              "      quickchartButtonEl.classList.add('colab-df-spinner');\n",
              "      try {\n",
              "        const charts = await google.colab.kernel.invokeFunction(\n",
              "            'suggestCharts', [key], {});\n",
              "      } catch (error) {\n",
              "        console.error('Error during call to suggestCharts:', error);\n",
              "      }\n",
              "      quickchartButtonEl.classList.remove('colab-df-spinner');\n",
              "      quickchartButtonEl.classList.add('colab-df-quickchart-complete');\n",
              "    }\n",
              "    (() => {\n",
              "      let quickchartButtonEl =\n",
              "        document.querySelector('#df-6a6bb0a6-99c4-4ddc-a835-6584b46ea0e6 button');\n",
              "      quickchartButtonEl.style.display =\n",
              "        google.colab.kernel.accessAllowed ? 'block' : 'none';\n",
              "    })();\n",
              "  </script>\n",
              "</div>\n",
              "\n",
              "    </div>\n",
              "  </div>\n"
            ],
            "text/plain": [
              "           loan_amnt       int_rate    installment    annual_inc  \\\n",
              "count  396030.000000  396030.000000  396030.000000  3.960300e+05   \n",
              "mean    14113.888089      13.639400     431.849698  7.420318e+04   \n",
              "std      8357.441341       4.472157     250.727790  6.163762e+04   \n",
              "min       500.000000       5.320000      16.080000  0.000000e+00   \n",
              "25%      8000.000000      10.490000     250.330000  4.500000e+04   \n",
              "50%     12000.000000      13.330000     375.430000  6.400000e+04   \n",
              "75%     20000.000000      16.490000     567.300000  9.000000e+04   \n",
              "max     40000.000000      30.990000    1533.810000  8.706582e+06   \n",
              "\n",
              "                 dti       open_acc        pub_rec     revol_bal  \\\n",
              "count  396030.000000  396030.000000  396030.000000  3.960300e+05   \n",
              "mean       17.379514      11.311153       0.178191  1.584454e+04   \n",
              "std        18.019092       5.137649       0.530671  2.059184e+04   \n",
              "min         0.000000       0.000000       0.000000  0.000000e+00   \n",
              "25%        11.280000       8.000000       0.000000  6.025000e+03   \n",
              "50%        16.910000      10.000000       0.000000  1.118100e+04   \n",
              "75%        22.980000      14.000000       0.000000  1.962000e+04   \n",
              "max      9999.000000      90.000000      86.000000  1.743266e+06   \n",
              "\n",
              "          revol_util      total_acc       mort_acc  pub_rec_bankruptcies  \n",
              "count  395754.000000  396030.000000  358235.000000         395495.000000  \n",
              "mean       53.791749      25.414744       1.813991              0.121648  \n",
              "std        24.452193      11.886991       2.147930              0.356174  \n",
              "min         0.000000       2.000000       0.000000              0.000000  \n",
              "25%        35.800000      17.000000       0.000000              0.000000  \n",
              "50%        54.800000      24.000000       1.000000              0.000000  \n",
              "75%        72.900000      32.000000       3.000000              0.000000  \n",
              "max       892.300000     151.000000      34.000000              8.000000  "
            ]
          },
          "execution_count": 55,
          "metadata": {},
          "output_type": "execute_result"
        }
      ],
      "source": [
        "# Statistical summary\n",
        "\n",
        "df.describe()"
      ]
    },
    {
      "cell_type": "markdown",
      "metadata": {
        "id": "qZzOla3UztCT"
      },
      "source": [
        "# Data Cleaning"
      ]
    },
    {
      "cell_type": "code",
      "execution_count": null,
      "metadata": {
        "colab": {
          "base_uri": "https://localhost:8080/"
        },
        "id": "OzhevOmVzu5j",
        "outputId": "4320e521-fb6a-41e2-e83d-facdf34da571"
      },
      "outputs": [
        {
          "name": "stdout",
          "output_type": "stream",
          "text": [
            "<class 'pandas.core.frame.DataFrame'>\n",
            "RangeIndex: 396030 entries, 0 to 396029\n",
            "Data columns (total 27 columns):\n",
            " #   Column                Non-Null Count   Dtype  \n",
            "---  ------                --------------   -----  \n",
            " 0   loan_amnt             396030 non-null  float64\n",
            " 1   term                  396030 non-null  object \n",
            " 2   int_rate              396030 non-null  float64\n",
            " 3   installment           396030 non-null  float64\n",
            " 4   grade                 396030 non-null  object \n",
            " 5   sub_grade             396030 non-null  object \n",
            " 6   emp_title             373103 non-null  object \n",
            " 7   emp_length            377729 non-null  object \n",
            " 8   home_ownership        396030 non-null  object \n",
            " 9   annual_inc            396030 non-null  float64\n",
            " 10  verification_status   396030 non-null  object \n",
            " 11  issue_d               396030 non-null  object \n",
            " 12  loan_status           396030 non-null  object \n",
            " 13  purpose               396030 non-null  object \n",
            " 14  title                 394275 non-null  object \n",
            " 15  dti                   396030 non-null  float64\n",
            " 16  earliest_cr_line      396030 non-null  object \n",
            " 17  open_acc              396030 non-null  float64\n",
            " 18  pub_rec               396030 non-null  float64\n",
            " 19  revol_bal             396030 non-null  float64\n",
            " 20  revol_util            395754 non-null  float64\n",
            " 21  total_acc             396030 non-null  float64\n",
            " 22  initial_list_status   396030 non-null  object \n",
            " 23  application_type      396030 non-null  object \n",
            " 24  mort_acc              358235 non-null  float64\n",
            " 25  pub_rec_bankruptcies  395495 non-null  float64\n",
            " 26  address               396030 non-null  object \n",
            "dtypes: float64(12), object(15)\n",
            "memory usage: 81.6+ MB\n"
          ]
        }
      ],
      "source": [
        "df.info()"
      ]
    },
    {
      "cell_type": "markdown",
      "metadata": {
        "id": "mTks3UC-1fTB"
      },
      "source": [
        "**Checking Column Datatypes**"
      ]
    },
    {
      "cell_type": "code",
      "execution_count": null,
      "metadata": {
        "colab": {
          "base_uri": "https://localhost:8080/"
        },
        "id": "YT06x_7Cz0Y2",
        "outputId": "0c628599-3d6a-4a5c-cdc4-1e6794aef724"
      },
      "outputs": [
        {
          "data": {
            "text/plain": [
              "Index(['term', 'grade', 'sub_grade', 'emp_title', 'emp_length',\n",
              "       'home_ownership', 'verification_status', 'issue_d', 'loan_status',\n",
              "       'purpose', 'title', 'earliest_cr_line', 'initial_list_status',\n",
              "       'application_type', 'address'],\n",
              "      dtype='object')"
            ]
          },
          "execution_count": 57,
          "metadata": {},
          "output_type": "execute_result"
        }
      ],
      "source": [
        "# Non-numeric columns\n",
        "cat_cols = df.select_dtypes(include=['object']).columns\n",
        "cat_cols"
      ]
    },
    {
      "cell_type": "code",
      "execution_count": null,
      "metadata": {
        "colab": {
          "base_uri": "https://localhost:8080/"
        },
        "id": "sed3xZIv11G_",
        "outputId": "2aeed8c5-ec98-4971-b0d0-e774f5e3db38"
      },
      "outputs": [
        {
          "name": "stdout",
          "output_type": "stream",
          "text": [
            "No of unique values in term: 2\n",
            "No of unique values in grade: 7\n",
            "No of unique values in sub_grade: 35\n",
            "No of unique values in emp_title: 173105\n",
            "No of unique values in emp_length: 11\n",
            "No of unique values in home_ownership: 6\n",
            "No of unique values in verification_status: 3\n",
            "No of unique values in issue_d: 115\n",
            "No of unique values in loan_status: 2\n",
            "No of unique values in purpose: 14\n",
            "No of unique values in title: 48817\n",
            "No of unique values in earliest_cr_line: 684\n",
            "No of unique values in initial_list_status: 2\n",
            "No of unique values in application_type: 3\n",
            "No of unique values in address: 393700\n"
          ]
        }
      ],
      "source": [
        "# Number of unique values in all non-numeric columns\n",
        "\n",
        "for col in cat_cols:\n",
        "    print(f\"No of unique values in {col}: {df[col].nunique()}\")"
      ]
    },
    {
      "cell_type": "code",
      "execution_count": null,
      "metadata": {
        "id": "5yi_GSlX2Epr"
      },
      "outputs": [],
      "source": [
        "# Convert earliest credit line & issue date to datetime\n",
        "\n",
        "df['earliest_cr_line'] = pd.to_datetime(df['earliest_cr_line'])\n",
        "df['issue_d'] = pd.to_datetime(df['issue_d'])"
      ]
    },
    {
      "cell_type": "code",
      "execution_count": null,
      "metadata": {
        "id": "T9ThZAN0C0cV"
      },
      "outputs": [],
      "source": [
        "# Convert employment length to numeric\n",
        "\n",
        "d = {'10+ years':10, '4 years':4, '< 1 year':0, '6 years':6, '9 years':9, '7 years':7, '8 years':8, '5 years':5, '2 years':2, '3 years':3, '1 year':1, 'n/a':0}\n",
        "df['emp_length'] = df['emp_length'].replace(d)\n"
      ]
    },
    {
      "cell_type": "code",
      "execution_count": null,
      "metadata": {
        "id": "IvuYy70RHMY7"
      },
      "outputs": [],
      "source": [
        "# Convert columns with less number of unique values to categorical columns\n",
        "\n",
        "cat_cols = ['term', 'grade','sub_grade','home_ownership',\n",
        "            'verification_status','loan_status','purpose',\n",
        "            'initial_list_status','application_type']\n",
        "\n",
        "df[cat_cols] = df[cat_cols].astype('category')"
      ]
    },
    {
      "cell_type": "code",
      "execution_count": null,
      "metadata": {
        "colab": {
          "base_uri": "https://localhost:8080/"
        },
        "id": "AnT8PMFRHRAE",
        "outputId": "1d6c9297-6997-4a5b-f025-2af9a1bc6fd2"
      },
      "outputs": [
        {
          "name": "stdout",
          "output_type": "stream",
          "text": [
            "<class 'pandas.core.frame.DataFrame'>\n",
            "RangeIndex: 396030 entries, 0 to 396029\n",
            "Data columns (total 27 columns):\n",
            " #   Column                Non-Null Count   Dtype         \n",
            "---  ------                --------------   -----         \n",
            " 0   loan_amnt             396030 non-null  float64       \n",
            " 1   term                  396030 non-null  category      \n",
            " 2   int_rate              396030 non-null  float64       \n",
            " 3   installment           396030 non-null  float64       \n",
            " 4   grade                 396030 non-null  category      \n",
            " 5   sub_grade             396030 non-null  category      \n",
            " 6   emp_title             373103 non-null  object        \n",
            " 7   emp_length            377729 non-null  float64       \n",
            " 8   home_ownership        396030 non-null  category      \n",
            " 9   annual_inc            396030 non-null  float64       \n",
            " 10  verification_status   396030 non-null  category      \n",
            " 11  issue_d               396030 non-null  datetime64[ns]\n",
            " 12  loan_status           396030 non-null  category      \n",
            " 13  purpose               396030 non-null  category      \n",
            " 14  title                 394275 non-null  object        \n",
            " 15  dti                   396030 non-null  float64       \n",
            " 16  earliest_cr_line      396030 non-null  datetime64[ns]\n",
            " 17  open_acc              396030 non-null  float64       \n",
            " 18  pub_rec               396030 non-null  float64       \n",
            " 19  revol_bal             396030 non-null  float64       \n",
            " 20  revol_util            395754 non-null  float64       \n",
            " 21  total_acc             396030 non-null  float64       \n",
            " 22  initial_list_status   396030 non-null  category      \n",
            " 23  application_type      396030 non-null  category      \n",
            " 24  mort_acc              358235 non-null  float64       \n",
            " 25  pub_rec_bankruptcies  395495 non-null  float64       \n",
            " 26  address               396030 non-null  object        \n",
            "dtypes: category(9), datetime64[ns](2), float64(13), object(3)\n",
            "memory usage: 57.8+ MB\n"
          ]
        }
      ],
      "source": [
        "df.info()"
      ]
    },
    {
      "cell_type": "markdown",
      "metadata": {
        "id": "vFlSh1QlT6yf"
      },
      "source": [
        "**Check for Duplicate Values**"
      ]
    },
    {
      "cell_type": "code",
      "execution_count": null,
      "metadata": {
        "colab": {
          "base_uri": "https://localhost:8080/"
        },
        "id": "7Svh72IzTvKb",
        "outputId": "da6ef26d-bda5-4104-fab3-23cdafcad4b2"
      },
      "outputs": [
        {
          "data": {
            "text/plain": [
              "0"
            ]
          },
          "execution_count": 63,
          "metadata": {},
          "output_type": "execute_result"
        }
      ],
      "source": [
        "df.duplicated().sum()"
      ]
    },
    {
      "cell_type": "markdown",
      "metadata": {
        "id": "1E-54InFUnfu"
      },
      "source": [
        "There are no duplicate values in the data"
      ]
    },
    {
      "cell_type": "markdown",
      "metadata": {
        "id": "wZlgSfuhhpHa"
      },
      "source": [
        "**Handling Missing Values**"
      ]
    },
    {
      "cell_type": "code",
      "execution_count": null,
      "metadata": {
        "colab": {
          "base_uri": "https://localhost:8080/"
        },
        "id": "pv7Pq4JgT_0i",
        "outputId": "31d50fb8-25a7-45ac-a915-963c689256d0"
      },
      "outputs": [
        {
          "data": {
            "text/plain": [
              "loan_amnt                   0\n",
              "term                        0\n",
              "int_rate                    0\n",
              "installment                 0\n",
              "grade                       0\n",
              "sub_grade                   0\n",
              "emp_title               22927\n",
              "emp_length              18301\n",
              "home_ownership              0\n",
              "annual_inc                  0\n",
              "verification_status         0\n",
              "issue_d                     0\n",
              "loan_status                 0\n",
              "purpose                     0\n",
              "title                    1755\n",
              "dti                         0\n",
              "earliest_cr_line            0\n",
              "open_acc                    0\n",
              "pub_rec                     0\n",
              "revol_bal                   0\n",
              "revol_util                276\n",
              "total_acc                   0\n",
              "initial_list_status         0\n",
              "application_type            0\n",
              "mort_acc                37795\n",
              "pub_rec_bankruptcies      535\n",
              "address                     0\n",
              "dtype: int64"
            ]
          },
          "execution_count": 64,
          "metadata": {},
          "output_type": "execute_result"
        }
      ],
      "source": [
        "df.isna().sum()"
      ]
    },
    {
      "cell_type": "code",
      "execution_count": null,
      "metadata": {
        "id": "RFdWvLvIhsN6"
      },
      "outputs": [],
      "source": [
        "#Filling missing values with 'Unknown' for object dtype\n",
        "\n",
        "fill_values = {'title': 'Unknown', 'emp_title': 'Unknown'}\n",
        "df.fillna(value=fill_values, inplace=True)"
      ]
    },
    {
      "cell_type": "code",
      "execution_count": null,
      "metadata": {
        "id": "uK9ZsDs_jZ8Y"
      },
      "outputs": [],
      "source": [
        "#Mean aggregation of mort_acc by total_acc to fill missing values\n",
        "\n",
        "df['mort_acc'].fillna(df.groupby('total_acc')['mort_acc'].transform('mean'), inplace=True)"
      ]
    },
    {
      "cell_type": "code",
      "execution_count": null,
      "metadata": {
        "colab": {
          "base_uri": "https://localhost:8080/"
        },
        "id": "ILEtsfoSmNkj",
        "outputId": "189272d0-53de-454e-dc93-f5295cc9dada"
      },
      "outputs": [
        {
          "data": {
            "text/plain": [
              "loan_amnt                   0\n",
              "term                        0\n",
              "int_rate                    0\n",
              "installment                 0\n",
              "grade                       0\n",
              "sub_grade                   0\n",
              "emp_title                   0\n",
              "emp_length              18301\n",
              "home_ownership              0\n",
              "annual_inc                  0\n",
              "verification_status         0\n",
              "issue_d                     0\n",
              "loan_status                 0\n",
              "purpose                     0\n",
              "title                       0\n",
              "dti                         0\n",
              "earliest_cr_line            0\n",
              "open_acc                    0\n",
              "pub_rec                     0\n",
              "revol_bal                   0\n",
              "revol_util                276\n",
              "total_acc                   0\n",
              "initial_list_status         0\n",
              "application_type            0\n",
              "mort_acc                    0\n",
              "pub_rec_bankruptcies      535\n",
              "address                     0\n",
              "dtype: int64"
            ]
          },
          "execution_count": 67,
          "metadata": {},
          "output_type": "execute_result"
        }
      ],
      "source": [
        "df.isna().sum()"
      ]
    },
    {
      "cell_type": "code",
      "execution_count": null,
      "metadata": {
        "id": "JCuxnbc_n8Fj"
      },
      "outputs": [],
      "source": [
        "# Fill emp_length using KNN imputer\n",
        "\n",
        "from sklearn.impute import KNNImputer\n",
        "knn_imputer = KNNImputer(n_neighbors=5)\n",
        "df['emp_length'] = knn_imputer.fit_transform(df['emp_length'].values.reshape(-1, 1)).ravel()\n",
        "df['revol_util'] = knn_imputer.fit_transform(df['revol_util'].values.reshape(-1, 1)).ravel()\n",
        "df['pub_rec_bankruptcies'] = knn_imputer.fit_transform(df['pub_rec_bankruptcies'].values.reshape(-1, 1)).ravel()"
      ]
    },
    {
      "cell_type": "code",
      "execution_count": null,
      "metadata": {
        "colab": {
          "base_uri": "https://localhost:8080/"
        },
        "id": "-iwK2IbcqaP2",
        "outputId": "1860c1d4-7b9a-4f20-d264-d0b50b33fe8f"
      },
      "outputs": [
        {
          "data": {
            "text/plain": [
              "loan_amnt               0\n",
              "term                    0\n",
              "int_rate                0\n",
              "installment             0\n",
              "grade                   0\n",
              "sub_grade               0\n",
              "emp_title               0\n",
              "emp_length              0\n",
              "home_ownership          0\n",
              "annual_inc              0\n",
              "verification_status     0\n",
              "issue_d                 0\n",
              "loan_status             0\n",
              "purpose                 0\n",
              "title                   0\n",
              "dti                     0\n",
              "earliest_cr_line        0\n",
              "open_acc                0\n",
              "pub_rec                 0\n",
              "revol_bal               0\n",
              "revol_util              0\n",
              "total_acc               0\n",
              "initial_list_status     0\n",
              "application_type        0\n",
              "mort_acc                0\n",
              "pub_rec_bankruptcies    0\n",
              "address                 0\n",
              "dtype: int64"
            ]
          },
          "execution_count": 69,
          "metadata": {},
          "output_type": "execute_result"
        }
      ],
      "source": [
        "df.isna().sum()"
      ]
    },
    {
      "cell_type": "code",
      "execution_count": null,
      "metadata": {
        "colab": {
          "base_uri": "https://localhost:8080/"
        },
        "id": "xX7BCZptG9Dq",
        "outputId": "cea99665-159f-4662-af64-fb09de4e8849"
      },
      "outputs": [
        {
          "data": {
            "text/plain": [
              "(396030, 27)"
            ]
          },
          "execution_count": 70,
          "metadata": {},
          "output_type": "execute_result"
        }
      ],
      "source": [
        "df.shape"
      ]
    },
    {
      "cell_type": "markdown",
      "metadata": {
        "id": "-lmHIgh3Ifjr"
      },
      "source": [
        "**Outlier Treatment**"
      ]
    },
    {
      "cell_type": "code",
      "execution_count": null,
      "metadata": {
        "colab": {
          "base_uri": "https://localhost:8080/"
        },
        "id": "ah3SFqU6Ibt2",
        "outputId": "d564ee59-4348-42b3-b73c-23f4a8676d78"
      },
      "outputs": [
        {
          "data": {
            "text/plain": [
              "Index(['loan_amnt', 'int_rate', 'installment', 'emp_length', 'annual_inc',\n",
              "       'dti', 'open_acc', 'pub_rec', 'revol_bal', 'revol_util', 'total_acc',\n",
              "       'mort_acc', 'pub_rec_bankruptcies'],\n",
              "      dtype='object')"
            ]
          },
          "execution_count": 71,
          "metadata": {},
          "output_type": "execute_result"
        }
      ],
      "source": [
        "num_cols = df.select_dtypes(include='number').columns\n",
        "num_cols"
      ]
    },
    {
      "cell_type": "code",
      "execution_count": null,
      "metadata": {
        "colab": {
          "base_uri": "https://localhost:8080/",
          "height": 1000
        },
        "id": "1suK4-JoIr2W",
        "outputId": "165d838d-1319-4578-9587-43796d901db1"
      },
      "outputs": [
        {
          "data": {
            "image/png": "[encoded data removed]",
            "text/plain": [
              "<Figure size 1000x2100 with 13 Axes>"
            ]
          },
          "metadata": {},
          "output_type": "display_data"
        }
      ],
      "source": [
        "fig = plt.figure(figsize=(10,21))\n",
        "i=1\n",
        "for col in num_cols:\n",
        "  ax = plt.subplot(7,2,i)\n",
        "  sns.boxplot(x=df[col])\n",
        "  plt.title(f'Boxplot of {col}')\n",
        "  i += 1\n",
        "\n",
        "plt.tight_layout()\n",
        "plt.show()"
      ]
    },
    {
      "cell_type": "markdown",
      "metadata": {
        "id": "AiwZIvgeJd3z"
      },
      "source": [
        "Here we can see that many columns have outliers. Lets remove the rows with outliers using standard deviation (99% data is within 3 standard deviations in case of normally distributed data).\n",
        "\n",
        "For pub_Rec and pub_rec_bankruptcies, we can apply the 0 or 1 approach"
      ]
    },
    {
      "cell_type": "code",
      "execution_count": null,
      "metadata": {
        "id": "xf3QADaSJTFy"
      },
      "outputs": [],
      "source": [
        "# Convert pub_rec and pub_rec_bankruptcies to categorical variables\n",
        "\n",
        "df['pub_rec_bankruptcies'] = np.where(df['pub_rec_bankruptcies']>0,'yes','no')\n",
        "df['pub_rec'] = np.where(df['pub_rec']>0,'yes','no')\n",
        "df[['pub_rec_bankruptcies','pub_rec']] = df[['pub_rec_bankruptcies','pub_rec']].astype('category')"
      ]
    },
    {
      "cell_type": "code",
      "execution_count": null,
      "metadata": {
        "colab": {
          "base_uri": "https://localhost:8080/"
        },
        "id": "qaSsnhn_JUKE",
        "outputId": "c93c389a-79dd-4243-eacb-f2185acd3a3c"
      },
      "outputs": [
        {
          "data": {
            "text/plain": [
              "Index(['loan_amnt', 'int_rate', 'installment', 'emp_length', 'annual_inc',\n",
              "       'dti', 'open_acc', 'revol_bal', 'revol_util', 'total_acc', 'mort_acc'],\n",
              "      dtype='object')"
            ]
          },
          "execution_count": 74,
          "metadata": {},
          "output_type": "execute_result"
        }
      ],
      "source": [
        "# Numeric columns after converting public records to category\n",
        "\n",
        "num_cols = df.select_dtypes(include='number').columns\n",
        "num_cols"
      ]
    },
    {
      "cell_type": "code",
      "execution_count": null,
      "metadata": {
        "id": "s11NFlqzJ_ZF"
      },
      "outputs": [],
      "source": [
        "#Removing outliers using standard deviation\n",
        "\n",
        "for col in num_cols:\n",
        "  mean = df[col].mean()\n",
        "  std = df[col].std()\n",
        "  upper = mean + (3*std)\n",
        "  df = df[~(df[col] > upper)]"
      ]
    },
    {
      "cell_type": "code",
      "execution_count": null,
      "metadata": {
        "colab": {
          "base_uri": "https://localhost:8080/"
        },
        "id": "nUe-Jy3BK6-M",
        "outputId": "c51dfba1-7e22-4eb4-f79f-64f48198fcad"
      },
      "outputs": [
        {
          "data": {
            "text/plain": [
              "(368778, 27)"
            ]
          },
          "execution_count": 76,
          "metadata": {},
          "output_type": "execute_result"
        }
      ],
      "source": [
        "df.shape"
      ]
    },
    {
      "cell_type": "markdown",
      "metadata": {
        "id": "Es5l2Bp8LQLy"
      },
      "source": [
        "**Feature Engineering**"
      ]
    },
    {
      "cell_type": "code",
      "execution_count": null,
      "metadata": {
        "colab": {
          "base_uri": "https://localhost:8080/"
        },
        "id": "6CrUgGdOK9JJ",
        "outputId": "6e2ad11b-31a5-4084-a09e-832d461ff1a0"
      },
      "outputs": [
        {
          "data": {
            "text/plain": [
              "191459          12407 Leah Inlet\\r\\nSouth Rebecca, NH 86630\n",
              "227598    67584 Collins Alley\\r\\nEast Bradleytown, AZ 93700\n",
              "149401      3076 Donna Inlet\\r\\nSouth Shannonland, TX 70466\n",
              "216817               303 Dana Cliffs\\r\\nLeahmouth, IA 22690\n",
              "360031            2546 Day Plain\\r\\nJenniferhaven, NM 30723\n",
              "348017         91471 Miller Garden\\r\\nMortonmouth, PA 22690\n",
              "375150    32745 Norris Cape\\r\\nLake Jenniferville, IL 05113\n",
              "277598    48311 Walker Crossroad Suite 244\\r\\nWest Micha...\n",
              "334425             197 Gardner Wells\\r\\nWest Lisa, KS 70466\n",
              "155380    266 Martinez Vista Suite 191\\r\\nGregoryborough...\n",
              "Name: address, dtype: object"
            ]
          },
          "execution_count": 77,
          "metadata": {},
          "output_type": "execute_result"
        }
      ],
      "source": [
        "df['address'].sample(10)"
      ]
    },
    {
      "cell_type": "code",
      "execution_count": null,
      "metadata": {
        "id": "X55uQlFQLSvG"
      },
      "outputs": [],
      "source": [
        "# Deriving zip code and state from address\n",
        "\n",
        "df[['state', 'zip_code']] = df['address'].apply(lambda x: pd.Series([x[-8:-6], x[-5:]]))"
      ]
    },
    {
      "cell_type": "code",
      "execution_count": null,
      "metadata": {
        "id": "a87CE-xwLkY6"
      },
      "outputs": [],
      "source": [
        "# Drop address\n",
        "\n",
        "df.drop([\"address\"], axis = 1, inplace=True)"
      ]
    },
    {
      "cell_type": "code",
      "execution_count": null,
      "metadata": {
        "colab": {
          "base_uri": "https://localhost:8080/"
        },
        "id": "sDrn0cfKO_MX",
        "outputId": "7f4852d7-60f8-45dd-ff99-e87162722ae7"
      },
      "outputs": [
        {
          "data": {
            "text/plain": [
              "10"
            ]
          },
          "execution_count": 80,
          "metadata": {},
          "output_type": "execute_result"
        }
      ],
      "source": [
        "df.zip_code.nunique()"
      ]
    },
    {
      "cell_type": "markdown",
      "metadata": {
        "id": "MvrS-yHzPEr_"
      },
      "source": [
        "Since there are only 10 zipcodes, we can change the datatype of zipcodes to categorical"
      ]
    },
    {
      "cell_type": "code",
      "execution_count": null,
      "metadata": {
        "id": "ND3192LRPBvO"
      },
      "outputs": [],
      "source": [
        "df['zip_code'] = df['zip_code'].astype('category')"
      ]
    },
    {
      "cell_type": "markdown",
      "metadata": {
        "id": "K6Q7UVecPV5p"
      },
      "source": [
        "# Exploratory Data Analysis"
      ]
    },
    {
      "cell_type": "code",
      "execution_count": null,
      "metadata": {
        "colab": {
          "base_uri": "https://localhost:8080/",
          "height": 613
        },
        "id": "CKNK5UkBPGzg",
        "outputId": "b9bcc67c-5245-464a-b00b-0e979e8d7d2d"
      },
      "outputs": [
        {
          "data": {
            "image/png": "[encoded data removed]",
            "text/plain": [
              "<Figure size 800x600 with 2 Axes>"
            ]
          },
          "metadata": {},
          "output_type": "display_data"
        }
      ],
      "source": [
        "# Correlation between numerical features\n",
        "\n",
        "plt.figure(figsize=(8,6))\n",
        "sns.heatmap(df.corr(), annot=True, fmt=\".1f\")\n",
        "plt.title('Correlation between Numerical Features')\n",
        "plt.show()"
      ]
    },
    {
      "cell_type": "markdown",
      "metadata": {
        "id": "ssK0hsQHP8NR"
      },
      "source": [
        "* loan_amnt and installment are perfectly correlated\n",
        "* total_acc is highly correlated with open_acc\n",
        "* total_acc is moderately correlated with mort_acc\n",
        "\n",
        "We can remove some of these correlated features to avoid multicolinearity"
      ]
    },
    {
      "cell_type": "code",
      "execution_count": null,
      "metadata": {
        "id": "18_zswmtQu-L"
      },
      "outputs": [],
      "source": [
        "# Drop installment\n",
        "\n",
        "df.drop(columns=['installment'], inplace=True)"
      ]
    },
    {
      "cell_type": "code",
      "execution_count": null,
      "metadata": {
        "id": "CN938o2pQv--"
      },
      "outputs": [],
      "source": [
        "# Distribution of categorical variables\n",
        "\n",
        "plot = ['term', 'grade', 'sub_grade', 'home_ownership', 'verification_status',\n",
        "       'loan_status', 'pub_rec', 'initial_list_status',\n",
        "       'application_type', 'pub_rec_bankruptcies']\n",
        "\n",
        "plt.figure(figsize=(12,12))\n",
        "i=1\n",
        "for col in plot:\n",
        "  ax=plt.subplot(5,2,i)\n",
        "  sns.countplot(x=df[col], palette='Blues')\n",
        "  plt.title(f'{col}')\n",
        "  i += 1\n",
        "\n",
        "plt.tight_layout()\n",
        "plt.show()"
      ]
    },
    {
      "cell_type": "code",
      "execution_count": null,
      "metadata": {
        "id": "CPQfERu9RI9r"
      },
      "outputs": [],
      "source": [
        "plt.figure(figsize=(10,3))\n",
        "sns.countplot(x=df['zip_code'], palette='Blues')\n",
        "plt.title('Distribution of Zip Code')\n",
        "\n",
        "plt.figure(figsize=(10,3))\n",
        "sns.countplot(x=df['purpose'], palette='Blues')\n",
        "plt.xticks(rotation=90)\n",
        "plt.title('Distribution of Purpose')\n",
        "\n",
        "plt.show()"
      ]
    },
    {
      "cell_type": "markdown",
      "metadata": {
        "id": "RbpLfy0EiM9b"
      },
      "source": [
        "Observations:\n",
        "\n",
        "* Almost 80% loans are of 36 months term\n",
        "* Maximum loans (30%) fall in B grade, followed by C,A & D respectively\n",
        "* The type of home ownership for 50% cases is mortgage\n",
        "* The target variable (loan status) is imbalanced in the favour of fully-paid loans. Defaulters are approx 25% of fully paid instances.\n",
        "* 85% of applicants don't have a public record/haven't filled for bankruptcy\n",
        "* 99% applicants have applied under 'individual' application type\n",
        "* 55% of loans are taken for the purpose of debt consolidation followed by 20% on credit card"
      ]
    },
    {
      "cell_type": "code",
      "execution_count": null,
      "metadata": {
        "id": "w-AW7GWZytS7"
      },
      "outputs": [],
      "source": [
        "# Impact of categorical factors on loan status\n",
        "\n",
        "plot = ['term', 'grade', 'sub_grade', 'home_ownership', 'verification_status',\n",
        "       'zip_code', 'pub_rec', 'initial_list_status',\n",
        "       'application_type', 'pub_rec_bankruptcies']\n",
        "\n",
        "plt.figure(figsize=(12,12))\n",
        "i=1\n",
        "for col in plot:\n",
        "  ax=plt.subplot(5,2,i)\n",
        "\n",
        "  data = pd.crosstab(df[col], df['loan_status'], normalize='index').round(2)*100\n",
        "  data.reset_index(inplace=True)\n",
        "\n",
        "  plt.bar(data[col],data['Charged Off'], color='#00008b')\n",
        "  plt.bar(data[col],data['Fully Paid'], color='#add8e6', bottom=data['Charged Off'])\n",
        "  plt.xlabel(f'{col}')\n",
        "  plt.ylabel('% Applicants')\n",
        "  plt.title(f'% Defaulters by {col}')\n",
        "  plt.legend(['Charged Off','Fully Paid'])\n",
        "  i += 1\n",
        "\n",
        "plt.tight_layout()\n",
        "plt.show()"
      ]
    },
    {
      "cell_type": "code",
      "execution_count": null,
      "metadata": {
        "colab": {
          "background_save": true
        },
        "id": "kJJW6jkY3d-b",
        "outputId": "5b91e24b-40b3-46ed-e78c-71501538d2e4"
      },
      "outputs": [
        {
          "data": {
            "image/png": "[encoded data removed]",
            "text/plain": [
              "<Figure size 1400x400 with 1 Axes>"
            ]
          },
          "metadata": {},
          "output_type": "display_data"
        },
        {
          "data": {
            "image/png": "[encoded data removed]",
            "text/plain": [
              "<Figure size 1400x400 with 1 Axes>"
            ]
          },
          "metadata": {},
          "output_type": "display_data"
        }
      ],
      "source": [
        "# Impact of Purpose/state on loan status\n",
        "\n",
        "purpose = pd.crosstab(df['purpose'], df['loan_status'], normalize='index').round(2)*100\n",
        "purpose.reset_index(inplace=True)\n",
        "\n",
        "plt.figure(figsize=(14,4))\n",
        "plt.bar(purpose['purpose'],purpose['Charged Off'], color='#00008b')\n",
        "plt.bar(purpose['purpose'],purpose['Fully Paid'], color='#add8e6', bottom=purpose['Charged Off'])\n",
        "plt.xlabel('Purpose')\n",
        "plt.ylabel('% Applicants')\n",
        "plt.title('% Defaulters by purpose')\n",
        "plt.legend(['Charged Off','Fully Paid'])\n",
        "plt.xticks(rotation=90)\n",
        "plt.show()\n",
        "\n",
        "state = pd.crosstab(df['state'], df['loan_status'], normalize='index').round(2)*100\n",
        "state.reset_index(inplace=True)\n",
        "\n",
        "plt.figure(figsize=(14,4))\n",
        "plt.bar(state['state'],state['Charged Off'], color='#00008b')\n",
        "plt.bar(state['state'],state['Fully Paid'], color='#add8e6', bottom=state['Charged Off'])\n",
        "plt.xlabel('state')\n",
        "plt.ylabel('% Applicants')\n",
        "plt.title('% Defaulters by state')\n",
        "plt.legend(['Charged Off','Fully Paid'])\n",
        "plt.show()"
      ]
    },
    {
      "cell_type": "markdown",
      "metadata": {
        "id": "INTM-Wer8-tq"
      },
      "source": [
        "Observations:\n",
        "\n",
        "* The % of defaulters is much higher for longer (60-month) term\n",
        "* As expected, grade/sub-grade has the maximum impact on loan_status with highest grade having maximum defaulters\n",
        "* Zip codes such as 11650, 86630 and 93700 have 100% defaulters\n",
        "* We can remove initial_list_status and state as they have no impact on loan_status\n",
        "* public records also don't seem to have any impact on loan_status surprisingly\n",
        "* Direct pay application type has higher default rate compared to individual/joint\n",
        "* Loan taken for the purpose of small business has the highest rate of default"
      ]
    },
    {
      "cell_type": "code",
      "execution_count": null,
      "metadata": {
        "id": "-5OqtOSR8JQ1"
      },
      "outputs": [],
      "source": [
        "# Impact of numerical features on loan_status\n",
        "\n",
        "num_cols = df.select_dtypes(include='number').columns\n",
        "\n",
        "fig, ax = plt.subplots(10,2,figsize=(10,30))\n",
        "i=0\n",
        "color_dict = {'Fully Paid': matplotlib.colors.to_rgba('#add8e6', 0.5),\n",
        "              'Charged Off': matplotlib.colors.to_rgba('#00008b', 1)}\n",
        "for col in num_cols:\n",
        "    sns.histplot(data=df, x=col, hue='loan_status', ax=ax[i, 0], legend=True,\n",
        "                palette=color_dict, kde=True, fill=True)\n",
        "    sns.boxplot(data=df, y=col, x='loan_status', ax=ax[i,1],\n",
        "               palette=('#00008b', '#add8e6'))\n",
        "    ax[i,0].set_ylabel(col, fontsize=12)\n",
        "    ax[i,0].set_xlabel(' ')\n",
        "    ax[i,1].set_xlabel(' ')\n",
        "    ax[i,1].set_ylabel(' ')\n",
        "    ax[i,1].xaxis.set_tick_params(labelsize=14)\n",
        "    i += 1\n",
        "\n",
        "plt.tight_layout()\n",
        "plt.show()"
      ]
    },
    {
      "cell_type": "markdown",
      "metadata": {
        "id": "IQ_nB7H0_23r"
      },
      "source": [
        "Observations:\n",
        "\n",
        "* From the boxplots, it can be observed that the mean loan_amnt, int_rate, dti, open_acc and revol_util are slightly higher for defaulters while annual income is lower"
      ]
    },
    {
      "cell_type": "code",
      "execution_count": null,
      "metadata": {
        "id": "1HafmSA3-5yo"
      },
      "outputs": [],
      "source": [
        "# Remove columns which do not have an impact on loan_status\n",
        "\n",
        "df.drop(columns=['initial_list_status','state',\n",
        "                 'emp_title', 'title','earliest_cr_line',\n",
        "                 'issue_d','sub_grade'], inplace=True)\n",
        "\n",
        "# Subgrade is removed because grade and subgrade are similar features"
      ]
    },
    {
      "cell_type": "markdown",
      "metadata": {
        "id": "dIDLZD7mITxS"
      },
      "source": [
        "# Data Pre-Processing"
      ]
    },
    {
      "cell_type": "code",
      "execution_count": null,
      "metadata": {
        "id": "iUVrSshpIUjf"
      },
      "outputs": [],
      "source": [
        "# Encoding Target Variable\n",
        "\n",
        "df['loan_status'] = df['loan_status'].map({'Fully Paid': 0, 'Charged Off':1}).astype(int)"
      ]
    },
    {
      "cell_type": "code",
      "execution_count": null,
      "metadata": {
        "id": "jX-sKtQIIa6L"
      },
      "outputs": [],
      "source": [
        "x = df.drop(columns=['loan_status'])\n",
        "x.reset_index(inplace=True, drop=True)\n",
        "y = df['loan_status']\n",
        "y.reset_index(drop=True, inplace=True)"
      ]
    },
    {
      "cell_type": "code",
      "execution_count": null,
      "metadata": {
        "id": "cuJnL1T9Is62"
      },
      "outputs": [],
      "source": [
        "# Encoding Binary features into numerical dtype\n",
        "\n",
        "x['term'] = x['term'].map({' 36 months': 36, ' 60 months':60}).astype(int)\n",
        "x['pub_rec'] = x['pub_rec'].map({'no': 0, 'yes':1}).astype(int)\n",
        "x['pub_rec_bankruptcies'] = x['pub_rec_bankruptcies'].map({'no': 0, 'yes':1}).astype(int)"
      ]
    },
    {
      "cell_type": "markdown",
      "metadata": {
        "id": "LjpguDR-I_h1"
      },
      "source": [
        "**One Hot Encoding of Categorical Features**"
      ]
    },
    {
      "cell_type": "code",
      "execution_count": null,
      "metadata": {
        "id": "QW1cWnY1I600"
      },
      "outputs": [],
      "source": [
        "cat_cols = x.select_dtypes('category').columns\n",
        "\n",
        "encoder = OneHotEncoder(sparse=False)\n",
        "encoded_data = encoder.fit_transform(x[cat_cols])\n",
        "encoded_df = pd.DataFrame(encoded_data, columns=encoder.get_feature_names_out(cat_cols))\n",
        "x = pd.concat([x,encoded_df], axis=1)\n",
        "x.drop(columns=cat_cols, inplace=True)\n",
        "x.head()"
      ]
    },
    {
      "cell_type": "markdown",
      "metadata": {
        "id": "BzQXMIGXJTYx"
      },
      "source": [
        "**Train-Test Split**"
      ]
    },
    {
      "cell_type": "code",
      "execution_count": null,
      "metadata": {
        "id": "xLeN4okwJSqO"
      },
      "outputs": [],
      "source": [
        "x_train, x_test, y_train, y_test = train_test_split(x,y,test_size=0.20,stratify=y,random_state=42)\n",
        "print(\"x_train: \", x_train.shape)\n",
        "print(\"y_train: \", y_train.shape)\n",
        "print(\"x_test: \", x_test.shape)\n",
        "print(\"y_test: \", y_test.shape)"
      ]
    },
    {
      "cell_type": "markdown",
      "metadata": {
        "id": "XlARrGPVN-XT"
      },
      "source": [
        "**Scaling Numeric Features**"
      ]
    },
    {
      "cell_type": "code",
      "execution_count": null,
      "metadata": {
        "id": "xAInDF07JmnY"
      },
      "outputs": [],
      "source": [
        "scaler = MinMaxScaler()\n",
        "x_train = pd.DataFrame(scaler.fit_transform(x_train), columns=x_train.columns)\n",
        "x_test = pd.DataFrame(scaler.transform(x_test), columns=x_test.columns)"
      ]
    },
    {
      "cell_type": "code",
      "execution_count": null,
      "metadata": {
        "id": "v543C_lLOHUz"
      },
      "outputs": [],
      "source": [
        "x_train.head()"
      ]
    },
    {
      "cell_type": "markdown",
      "metadata": {
        "id": "IIKzsmbROOFM"
      },
      "source": [
        "**Oversampling with SMOTE**"
      ]
    },
    {
      "cell_type": "code",
      "execution_count": null,
      "metadata": {
        "id": "izQo88UlOI5R"
      },
      "outputs": [],
      "source": [
        "# Oversampling to balance the target variable\n",
        "\n",
        "sm = SMOTE(random_state=42)\n",
        "x_train_sm, y_train_sm = sm.fit_resample(x_train,y_train.ravel())\n",
        "\n",
        "print(f\"Before OverSampling, count of label 1: {sum(y_train == 1)}\")\n",
        "print(f\"Before OverSampling, count of label 0: {sum(y_train == 0)}\")\n",
        "print(f\"After OverSampling, count of label 1: {sum(y_train_sm == 1)}\")\n",
        "print(f\"After OverSampling, count of label 0: {sum(y_train_sm == 0)}\")"
      ]
    },
    {
      "cell_type": "markdown",
      "metadata": {
        "id": "aFb5FGazOl1Y"
      },
      "source": [
        "# Logistic Regression"
      ]
    },
    {
      "cell_type": "code",
      "execution_count": null,
      "metadata": {
        "id": "VphOf4NOOmkF"
      },
      "outputs": [],
      "source": [
        "model = LogisticRegression()\n",
        "model.fit(x_train_sm, y_train_sm)\n",
        "train_preds = model.predict(x_train_sm)\n",
        "test_preds = model.predict(x_test)\n",
        "\n",
        "#Model Evaluation\n",
        "print('Train Accuracy :', model.score(x_train_sm, y_train_sm).round(2))\n",
        "print('Train F1 Score:',f1_score(y_train_sm,train_preds).round(2))\n",
        "print('Train Recall Score:',recall_score(y_train_sm,train_preds).round(2))\n",
        "print('Train Precision Score:',precision_score(y_train_sm,train_preds).round(2))\n",
        "\n",
        "print('\\nTest Accuracy :',model.score(x_test,y_test).round(2))\n",
        "print('Test F1 Score:',f1_score(y_test,test_preds).round(2))\n",
        "print('Test Recall Score:',recall_score(y_test,test_preds).round(2))\n",
        "print('Test Precision Score:',precision_score(y_test,test_preds).round(2))\n",
        "\n",
        "# Confusion Matrix\n",
        "cm = confusion_matrix(y_test, test_preds)\n",
        "disp = ConfusionMatrixDisplay(cm)\n",
        "disp.plot()\n",
        "plt.title('Confusion Matrix')\n",
        "plt.show()"
      ]
    },
    {
      "cell_type": "markdown",
      "metadata": {
        "id": "tvFl-6bnPuIC"
      },
      "source": [
        "**Classification Report**"
      ]
    },
    {
      "cell_type": "code",
      "execution_count": null,
      "metadata": {
        "id": "WoBC1b8CPwo8"
      },
      "outputs": [],
      "source": [
        "print(classification_report(y_test, test_preds))"
      ]
    },
    {
      "cell_type": "markdown",
      "metadata": {
        "id": "B-d6vKRuQFA4"
      },
      "source": [
        "* It can be observed that the recall score is very high (our model is able to identify 80% of actual defaulters) but the precision is low for positive class (of all the predicted defaulters, only 50% are actually defaulters).\n",
        "* Although this model is effective in reducing NPAs by flagging most of the defaulters, it may cause loantap to deny loans to many deserving customers due to low precision (false positives)\n",
        "* Low precision has also caused F1 score to drop to 60% even though accuracy is 80%"
      ]
    },
    {
      "cell_type": "markdown",
      "metadata": {
        "id": "La78UAUsQUiu"
      },
      "source": [
        "**Feature Importance**"
      ]
    },
    {
      "cell_type": "code",
      "execution_count": null,
      "metadata": {
        "id": "UMybwJsZQWwR"
      },
      "outputs": [],
      "source": [
        "feature_imp = pd.DataFrame({'Columns':x_train_sm.columns, 'Coefficients':model.coef_[0]}).round(2).sort_values('Coefficients', ascending=False)\n",
        "\n",
        "plt.figure(figsize=(8,8))\n",
        "sns.barplot(y = feature_imp['Columns'],\n",
        "           x =  feature_imp['Coefficients'])\n",
        "plt.title(\"Feature Importance for Model\")\n",
        "plt.yticks(fontsize=8)\n",
        "plt.ylabel(\"Feature\")\n",
        "plt.tight_layout()\n",
        "plt.show()"
      ]
    },
    {
      "cell_type": "markdown",
      "metadata": {
        "id": "ZGTYDfmrQjEh"
      },
      "source": [
        "* The model has assigned large weightage to zip_code features followed by dti, open_acc, loan_amnt\n",
        "* Similarly, large negative coefficients are assigned to a few zip codes, followed by annual income and joint application type"
      ]
    },
    {
      "cell_type": "markdown",
      "metadata": {
        "id": "XTfhLV3jQsGN"
      },
      "source": [
        "**ROC Curve & AUC**\n",
        "\n",
        "The Receiver Operating Characteristic (ROC) curve is a graphical representation of the performance of a binary classification model. It helps evaluate and compare different models by illustrating the trade-off between the true positive rate (TPR) and false positive rate (FPR) at various classification thresholds.\n",
        "\n",
        "The ROC curve is created by plotting the TPR on the y-axis against the FPR on the x-axis for different threshold values.\n",
        "\n",
        "* TPR: Also known as sensitivity or recall, is the proportion of true positive predictions out of all actual positive instances.\n",
        "* FPR: Proportion of false positive predictions out of all actual negative instances.\n",
        "\n",
        "A perfect classifier would have a TPR of 1 and an FPR of 0, resulting in a point at the top-left corner of the ROC curve. On the other hand, a random classifier would have an ROC curve following the diagonal line, as it has an equal chance of producing true positive and false positive predictions.\n",
        "\n",
        "The area under the ROC curve (AUC) is a commonly used metric to quantify the overall performance of a classifier.\n",
        "\n",
        "A perfect classifier would have an AUC of 1, while a random classifier would have an AUC of 0.5. The higher the AUC value, the better the classifier's performance in distinguishing between positive and negative instances."
      ]
    },
    {
      "cell_type": "code",
      "execution_count": null,
      "metadata": {
        "id": "aupC50HMQ48G"
      },
      "outputs": [],
      "source": [
        "# Predict probabilities for the test set\n",
        "probs = model.predict_proba(x_test)[:,1]\n",
        "\n",
        "# Compute the false positive rate, true positive rate, and thresholds\n",
        "fpr, tpr, thresholds = roc_curve(y_test, probs)\n",
        "\n",
        "# Compute the area under the ROC curve\n",
        "roc_auc = auc(fpr, tpr)\n",
        "\n",
        "# Plot the ROC curve\n",
        "plt.figure()\n",
        "plt.plot(fpr, tpr, color='darkorange', lw=2, label='ROC curve (area = %0.2f)' % roc_auc)\n",
        "plt.plot([0, 1], [0, 1], color='navy', lw=2, linestyle='--')\n",
        "plt.xlim([0.0, 1.0])\n",
        "plt.ylim([0.0, 1.05])\n",
        "plt.xlabel('False Positive Rate')\n",
        "plt.ylabel('True Positive Rate')\n",
        "plt.title('Receiver Operating Characteristic')\n",
        "plt.legend(loc=\"lower right\")\n",
        "plt.show()"
      ]
    },
    {
      "cell_type": "markdown",
      "metadata": {
        "id": "62335K0aRKn7"
      },
      "source": [
        "* AUC of 0.91 signifies that the model is able to discriminate well between the positive and the negative class.\n",
        "* But it is not a good measure for an imbalanced target variable because it may be high even when the classifier has a poor score on the minority class.\n",
        "* This can happen when the classifier performs well on the majority class instances, which dominate the dataset. As a result, the AUC may appear high, but the model may not effectively identify the minority class instances.\n",
        "\n",
        "Lets plot the Precision-Recall curve which is more suited for evaluation of imbalanced data\n"
      ]
    },
    {
      "cell_type": "markdown",
      "metadata": {
        "id": "EyttTK6CRcxq"
      },
      "source": [
        "**Precision Recall Curve**\n",
        "\n",
        "The Precision-Recall (PR) curve is another graphical representation commonly used to evaluate the performance of a binary classification model. It provides insights into the trade-off between precision and recall at various classification thresholds.\n",
        "\n",
        "* **Precision** represents the proportion of correctly predicted positive instances out of all instances predicted as positive. It focuses on the accuracy of positive predictions.\n",
        "* **Recall**, also known as sensitivity or true positive rate, represents the proportion of correctly predicted positive instances out of all actual positive instances. It focuses on capturing all positive instances.\n",
        "Similar to the ROC curve, the PR curve is created by plotting recall on the x-axis and precision on the y-axis for different threshold values. The curve illustrates the relationship between precision and recall as the classification threshold changes.\n",
        "\n",
        "A perfect classifier would have a precision of 1 and a recall of 1, resulting in a point at the top-right corner of the PR curve. Conversely, a random classifier would have a PR curve following the horizontal line defined by the ratio of positive instances in the dataset.\n",
        "\n",
        "The **PR curve is useful when dealing with imbalanced datasets**, where the number of negative instances far outweighs the positives. In such cases, the PR curve provides a more comprehensive evaluation of the model's performance compared to the ROC curve. This is because the ROC curve can be misleading when the majority of instances are negative, as it primarily focuses on the true negative rate.\n",
        "\n",
        "The area under the PR curve (AUPRC) is a commonly used metric to quantify the overall performance of a classifier. A perfect classifier would have an AUPRC of 1, while a random classifier would have an AUPRC equal to the ratio of positive instances. Generally, a higher AUPRC indicates better performance."
      ]
    },
    {
      "cell_type": "code",
      "execution_count": null,
      "metadata": {
        "id": "O0SNibbQQ7No"
      },
      "outputs": [],
      "source": [
        "# Compute the false precision and recall at all thresholds\n",
        "precision, recall, thresholds = precision_recall_curve(y_test, probs)\n",
        "\n",
        "# Area under Precision Recall Curve\n",
        "auprc = average_precision_score(y_test, probs)\n",
        "\n",
        "# Plot the precision-recall curve\n",
        "plt.plot(recall, precision, marker='.', label='PR curve (area = %0.2f)' % auprc)\n",
        "plt.xlabel('Recall')\n",
        "plt.ylabel('Precision')\n",
        "plt.title('Precision-Recall Curve')\n",
        "plt.legend(loc=\"lower left\")\n",
        "plt.show()"
      ]
    },
    {
      "cell_type": "markdown",
      "metadata": {
        "id": "VD0N2szsRxgH"
      },
      "source": [
        "As expected, the area under precision recall curve is not as high. It is a decent model as the area is more than 0.5 (random model benchmark) but there is still scope for improvement"
      ]
    },
    {
      "cell_type": "markdown",
      "metadata": {
        "id": "lBup8yCXR4ZS"
      },
      "source": [
        "# Conclusion\n",
        "\n",
        "**Q1.** How can we make sure that our model can detect real defaulters and there are less false positives? This is important as we can lose out on an opportunity to finance more individuals and earn interest on it.\n",
        "\n",
        "**Ans:** Precision score is an indicator of type1 error. Increasing precision score of the model will minimise false positives and ensure that the company is not losing out on the opportunity to finance worthy individuals.\n",
        "\n",
        "**Q2.** Since NPA (non-performing asset) is a real problem in this industry, it's important we play safe and shouldn't disburse loans to anyone.\n",
        "\n",
        "**Ans:** Recall score is an indicator of how many actual defaulters are flagged by the model. By increasing the recall score, we can minimise false negatives (type2 error) and ensure that loans are not disbursed to defaulters."
      ]
    },
    {
      "cell_type": "markdown",
      "metadata": {
        "id": "ndfDdnH1SJcq"
      },
      "source": [
        "**Insights**\n",
        "\n",
        "1) Impact of Categorical Attributes on loan_status (target variable):\n",
        "* The % of defaulters is much higher for longer (60-month) term\n",
        "* As expected, grade/sub-grade has the maximum impact on loan_status with highest grade having maximum defaulters\n",
        "* Zip codes such as 11650, 86630 and 93700 have 100% defaulters\n",
        "* We can remove initial_list_status and state as they have no impact on loan_status\n",
        "* Direct pay application type has higher default rate compared to individual/joint\n",
        "* Loan taken for the purpose of small business has the highest rate of default\n",
        "\n",
        "2) Impact of Numerical Attributes on loan_status (target variable):\n",
        "* It can be observed that the mean loan_amnt, int_rate, dti, open_acc and revol_util are higher for defaulters\n",
        "* The mean annual income is lower for defaulters\n",
        "\n",
        "3) A Logistic Regression model (trained after upsampling the data to balance the target variable) performed well, rendering accuracy of 80%.\n",
        "4) The model had a precision score of 95%, recall score of 80%, and f1 score of 87% on the negative class\n",
        "5) The model had a precision score of 49%, recall score of 81%, and f1 score of 61% on the positive class\n",
        "6) The ROC plot shows that the area under ROC curve is 0.91, which signifies that the model is able to differentiate well between both classes\n",
        "7) The area under Precision Recall curve is 0.78 (can be improved using hyperparameter tuning/increasing model complexity)\n",
        "\n",
        "\n",
        "**Recommendations**\n",
        "* The optimal strategy to achieve the objective of balancing the risk of increasing NPAs by disbursing loans to defaulters with the opportunity to earn interest by disbursing loans to as many worthy customers as possible: maximise the F1 score along with the area under Precision Recall Curve (precision-recall trade-off)\n",
        "* More complex classifiers like random forest would give better results compared to logistic regression because they are not restricted by the linearity of decision boundary"
      ]
    }
  ],
  "metadata": {
    "colab": {
      "provenance": []
    },
    "kernelspec": {
      "display_name": "Python 3",
      "name": "python3"
    },
    "language_info": {
      "name": "python"
    }
  },
  "nbformat": 4,
  "nbformat_minor": 0
}